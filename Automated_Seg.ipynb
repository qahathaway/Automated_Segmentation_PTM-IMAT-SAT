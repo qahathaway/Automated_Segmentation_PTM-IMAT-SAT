{
 "cells": [
  {
   "cell_type": "code",
   "execution_count": null,
   "id": "c826fe08-c00f-4049-877d-829616ce1659",
   "metadata": {},
   "outputs": [],
   "source": [
    "### Load Essential Packages for DICOM ---> PNG ###\n",
    "import cv2\n",
    "import pydicom\n",
    "import numpy as np\n",
    "from skimage import exposure\n",
    "import os\n",
    "\n",
    "from pydicom import dcmread\n",
    "from pydicom.pixel_data_handlers.util import apply_voi_lut"
   ]
  },
  {
   "cell_type": "code",
   "execution_count": null,
   "id": "468e3ab7-84dc-4177-83e8-cda66b3a27bb",
   "metadata": {},
   "outputs": [],
   "source": []
  },
  {
   "cell_type": "code",
   "execution_count": null,
   "id": "2a024299-e141-49e7-a321-5df3ce169222",
   "metadata": {},
   "outputs": [],
   "source": [
    "### Create New Directories for PNG Files ###\n",
    "# traverse root directory, and list directories as dirs and files as files\n",
    "for root, dirs, files in os.walk('/media/bitlockermount/MESArthritis/'):\n",
    "    path = root.split(os.sep)\n",
    "    path2 = path[-1]\n",
    "    path3 = ''.join(path2)\n",
    "    os.makedirs('/home/john/Documents/MESArthritis/Recursive/' + path3, exist_ok=True)"
   ]
  },
  {
   "cell_type": "code",
   "execution_count": null,
   "id": "28e8d67a-b025-4c81-80e6-7c71d07950bc",
   "metadata": {},
   "outputs": [],
   "source": [
    "### Automatically Create PNG from DICOM for All Patients in Directory ###\n",
    "import glob\n",
    "from glob import iglob\n",
    "\n",
    "for filename in glob.iglob('/media/bitlockermount/MESArthritis/**/*.dcm',recursive = True):\n",
    "    ds = pydicom.read_file(filename) #read dicom image\n",
    "    img = ds.pixel_array # get image array\n",
    "    img[img > 1130] = 1130\n",
    "    img[img <= 875] = 875\n",
    "    img2 = ((img - img.min()) * (1/(img.max() - img.min()) * 255)).astype('uint8')\n",
    "    img3 = cv2.resize(img2, (1200, 1200), interpolation = cv2.INTER_NEAREST)\n",
    "    path, filenames = os.path.split(filename)\n",
    "    path2 = os.path.basename(path)\n",
    "    path3 = os.path.join('/home/john/Documents/MESArthritis/Recursive/' + path2 + '/' + filenames.replace('.dcm','.png'))\n",
    "    cv2.imwrite(path3,img3) # write png image"
   ]
  },
  {
   "cell_type": "code",
   "execution_count": null,
   "id": "93d5087e-6a71-4bf6-bc23-405e396b6d3d",
   "metadata": {},
   "outputs": [],
   "source": [
    "### Automatically Create PNG from DICOM for Individual Patients in Single Subfolder ###\n",
    "inputdir = '/media/bitlockermount/MESArthritis/MESA3010090/'\n",
    "outdir = '/home/john/Documents/MESArthritis/MESA3010090/'\n",
    "\n",
    "test_list = [ f for f in  os.listdir(inputdir)]\n",
    "\n",
    "for f in test_list:   # remove \"[:10]\" to convert all images \n",
    "    ds = pydicom.read_file(inputdir + f) # read dicom image\n",
    "    img = ds.pixel_array # get image array\n",
    "    img[img > 1130] = 1130\n",
    "    img[img <= 875] = 875   \n",
    "    img2 = ((img - img.min()) * (1/(img.max() - img.min()) * 255)).astype('uint8')\n",
    "    img3 = cv2.resize(img2, (1200, 1200), interpolation = cv2.INTER_NEAREST) \n",
    "    cv2.imwrite(outdir + f.replace('.dcm','.png'),img3) # write png image"
   ]
  },
  {
   "cell_type": "code",
   "execution_count": null,
   "id": "a924496a-e58c-424a-8fb5-8537d1caa06b",
   "metadata": {},
   "outputs": [],
   "source": []
  },
  {
   "cell_type": "code",
   "execution_count": null,
   "id": "2670a2a6-a5a2-45df-b957-7b3b8a32b7dd",
   "metadata": {},
   "outputs": [],
   "source": [
    "### Load Essential Packages for Automatic Selection of PNG Directly Above Aortic Arch ###\n",
    "import numpy as np\n",
    "import pandas as pd\n",
    "import cv2\n",
    "from imutils import paths\n",
    "import argparse\n",
    "import pickle\n",
    "import vptree\n",
    "import matplotlib.pyplot as plt\n",
    "import time"
   ]
  },
  {
   "cell_type": "code",
   "execution_count": null,
   "id": "96577922-4719-4d6b-875c-749c6679d7e8",
   "metadata": {},
   "outputs": [],
   "source": [
    "### Create Image Hashing ###\n",
    "def dhash(image, hashSize=18):\n",
    "    resized = cv2.resize(image, (hashSize + 1, hashSize))\n",
    "    diff = resized[:, 1:] > resized[:, :-1]\n",
    "    return sum([2 ** i for (i, v) in enumerate(diff.flatten()) if v])\n",
    "\n",
    "### Converting Data Types ###\n",
    "def convert_hash(h):\n",
    "    return int(np.array(h, dtype=\"float64\"))\n",
    "\n",
    "def hamming(a, b):\n",
    "    return bin(int(a) ^ int(b)).count(\"1\")"
   ]
  },
  {
   "cell_type": "code",
   "execution_count": null,
   "id": "d2547e8f-1a28-47b9-b11a-796daa6fe3b1",
   "metadata": {},
   "outputs": [],
   "source": [
    "imagePaths = list(paths.list_images(\"/home/john/Documents/MESArthritis/Recursive/MESA3010007/\"))\n",
    "hashes= {}\n",
    "\n",
    "### Loading and Hashing the Images ###\n",
    "for (i, img_path) in enumerate(imagePaths):\n",
    "    img = cv2.imread(img_path)\n",
    "    h = dhash(img)\n",
    "    h = convert_hash(h)\n",
    "    l = hashes.get(h, [])\n",
    "    l.append(img_path)\n",
    "    hashes[h] = l"
   ]
  },
  {
   "cell_type": "code",
   "execution_count": null,
   "id": "262d6023-f153-4a2e-b64b-3ff65699a4e9",
   "metadata": {},
   "outputs": [],
   "source": [
    "points = list(hashes.keys())\n",
    "tree = vptree.VPTree(points, hamming) #Creating VP-Tree"
   ]
  },
  {
   "cell_type": "code",
   "execution_count": null,
   "id": "6e1133d4-077c-40a6-bc63-49132256878b",
   "metadata": {},
   "outputs": [],
   "source": [
    "### Serializing VP-Tree ###\n",
    "f = open(\"tree.pickle\", \"wb\")\n",
    "f.write(pickle.dumps(tree))\n",
    "f.close()\n",
    "\n",
    "### Serialize the Hashes to Dictionary ###\n",
    "f = open(\"hashes.pickle\", \"wb\")\n",
    "f.write(pickle.dumps(hashes))\n",
    "f.close()"
   ]
  },
  {
   "cell_type": "code",
   "execution_count": null,
   "id": "36ef0ec4-c2ab-458a-8f9f-f58a85bb8902",
   "metadata": {},
   "outputs": [],
   "source": [
    "tree = pickle.loads(open(\"tree.pickle\", \"rb\").read())\n",
    "hashes = pickle.loads(open(\"hashes.pickle\", \"rb\").read())"
   ]
  },
  {
   "cell_type": "code",
   "execution_count": null,
   "id": "dfcf6944-144e-4d44-976f-274e7fffef2f",
   "metadata": {},
   "outputs": [],
   "source": [
    "imaged = cv2.imread(\"/home/john/Documents/MESArthritis/IM-0353-0076.png\")"
   ]
  },
  {
   "cell_type": "code",
   "execution_count": null,
   "id": "5be2fe29-002f-4962-ab11-f31068b391aa",
   "metadata": {},
   "outputs": [],
   "source": [
    "### Compute the Hash for the Query Image, then Convert It ###\n",
    "queryHash = dhash(imaged)\n",
    "queryHash = convert_hash(queryHash)"
   ]
  },
  {
   "cell_type": "code",
   "execution_count": null,
   "id": "31b6150c-6a6b-485e-a5c5-e4aaf3bc3860",
   "metadata": {},
   "outputs": [],
   "source": [
    "start = time.time()\n",
    "#results = tree.get_all_in_range(queryHash, 20)\n",
    "results = tree.get_n_nearest_neighbors(queryHash, 20)\n",
    "results = sorted(results)\n",
    "end = time.time()\n",
    "print(\">>> search took {} seconds\".format(end - start))"
   ]
  },
  {
   "cell_type": "code",
   "execution_count": null,
   "id": "1a1aab95-bfff-45c5-b90f-0f3037f1db4e",
   "metadata": {},
   "outputs": [],
   "source": [
    "### Loop Over the Results and Select the Most Similar PNG ###\n",
    "for (d, h) in results[:1]:\n",
    "    resultPaths = hashes.get(h, [])\n",
    "    print(\">>> {} total image(s) with d: {}, h: {}\".format(len(resultPaths), d, h))\n",
    "    for resultPath in resultPaths:\n",
    "        result = cv2.imread(resultPath)\n",
    "#        cv2.imwrite('/home/john/Documents/MESArthritis/MESA3010058.png',result)\n",
    "        plt.imshow(result)\n",
    "        plt.show()"
   ]
  },
  {
   "cell_type": "code",
   "execution_count": null,
   "id": "6fc960d6-6556-420b-aadc-60875894b011",
   "metadata": {},
   "outputs": [],
   "source": []
  },
  {
   "cell_type": "code",
   "execution_count": null,
   "id": "fd16a43f-28c1-4fa0-b909-16fbbf623da1",
   "metadata": {},
   "outputs": [],
   "source": [
    "import glob\n",
    "import json\n",
    "import os\n",
    "import os.path as osp\n",
    "\n",
    "import numpy as np\n",
    "import PIL.Image\n",
    "import cv2\n",
    "import labelme\n",
    "import numpy as np\n",
    "\n",
    "DATA_DIR = '/home/john/Documents/MESArthritis/Aortic_Arch'\n",
    "OUT_DIR = '/home/john/Documents/MESArthritis/Ground_Truth'\n",
    "class_names = []\n",
    "class_name_to_id = {}\n",
    "for i, line in enumerate(open(DATA_DIR + '/labels.txt').readlines()):\n",
    "    class_id = i - 1  # starts with -1\n",
    "    class_name = line.strip()\n",
    "    class_name_to_id[class_name] = class_id\n",
    "    if class_id == -1:\n",
    "        assert class_name == '__ignore__'\n",
    "        continue\n",
    "    elif class_id == 0:\n",
    "        assert class_name == '_background_'\n",
    "    class_names.append(class_name)\n",
    "class_names = tuple(class_names)\n",
    "print('class_names:', class_names)\n",
    "out_class_names_file = osp.join(DATA_DIR, 'class_names.txt')\n",
    "with open(out_class_names_file, 'w') as f:\n",
    "    f.writelines('\\n'.join(class_names))\n",
    "print('Saved class_names:', out_class_names_file)\n",
    "\n",
    "if osp.exists(OUT_DIR):\n",
    "    print('Output directory already exists:', OUT_DIR)\n",
    "    quit(1)\n",
    "os.makedirs(OUT_DIR, exist_ok=True)\n",
    "for label_file in sorted(glob.glob(osp.join(DATA_DIR, '*.json'))):\n",
    "    with open(label_file) as f:\n",
    "        base = osp.splitext(osp.basename(label_file))[0]\n",
    "        data = json.load(f)\n",
    "        img_file = osp.join(osp.dirname(label_file), data['imagePath'])\n",
    "        img = np.asarray(PIL.Image.open(img_file))\n",
    "        lbl, _ = labelme.utils.shapes_to_label(\n",
    "            img_shape=img.shape,\n",
    "            shapes=data['shapes'],\n",
    "            label_name_to_value=class_name_to_id,\n",
    "        )\n",
    "        instance1 = np.copy(lbl)\n",
    "        instance3 = np.copy(lbl)\n",
    "        pos_1 = np.where(lbl==0)\n",
    "        pos_3 = np.where(lbl==3)\n",
    "        instance1[pos_1] = 0\n",
    "        instance3[pos_3] = 0\n",
    "\n",
    "        instance1 = instance1*255\n",
    "        instance3 = instance3*255\n",
    "        instance2 = np.subtract(instance1, instance3)\n",
    "        os.makedirs(osp.join(OUT_DIR, base), exist_ok=True)\n",
    "        os.makedirs(osp.join(OUT_DIR, base,'images'), exist_ok=True)\n",
    "        PIL.Image.fromarray(img).save(osp.join(OUT_DIR, base, 'images', base + '.png'))\n",
    "        os.makedirs(osp.join(OUT_DIR, base, 'masks'), exist_ok=True)\n",
    "        cv2.imwrite(osp.join(OUT_DIR, base, 'masks', base + '_instance1' + '.png'), instance1)\n",
    "        cv2.imwrite(osp.join(OUT_DIR, base, 'masks', base + '_instance2' + '.png'), instance2)\n",
    "        cv2.imwrite(osp.join(OUT_DIR, base, 'masks', base + '_instance3' + '.png'), instance3)"
   ]
  },
  {
   "cell_type": "code",
   "execution_count": null,
   "id": "b93daf9b-37ff-4234-9050-6fdb26fe2978",
   "metadata": {},
   "outputs": [],
   "source": []
  },
  {
   "cell_type": "code",
   "execution_count": null,
   "id": "9ff887ef-d14c-4050-8574-62af6f2b9557",
   "metadata": {},
   "outputs": [],
   "source": [
    "import pixellib\n",
    "from pixellib.custom_train import instance_custom_training\n",
    "\n",
    "vis_img = instance_custom_training()\n",
    "vis_img.load_dataset(\"/home/john/Documents/MESArthritis/ChestCT/\")\n",
    "vis_img.visualize_sample()"
   ]
  },
  {
   "cell_type": "code",
   "execution_count": null,
   "id": "c960b7f1-f968-4d2e-a0fe-922fa7ca788e",
   "metadata": {},
   "outputs": [],
   "source": []
  },
  {
   "cell_type": "code",
   "execution_count": null,
   "id": "39efc4f6-e98b-4905-ac97-71daf5fc4ea3",
   "metadata": {},
   "outputs": [],
   "source": [
    "import pixellib\n",
    "from pixellib.custom_train import instance_custom_training\n",
    "\n",
    "train_maskrcnn = instance_custom_training()\n",
    "train_maskrcnn.modelConfig(network_backbone = \"resnet101\", num_classes= 3, batch_size = 12)\n",
    "train_maskrcnn.load_pretrained_model(\"/home/john/Documents/MESArthritis/mask_rcnn_coco.h5\")\n",
    "train_maskrcnn.load_dataset(\"/home/john/Documents/MESArthritis/ChestCT\")\n",
    "train_maskrcnn.train_model(num_epochs = 1, augmentation=False,  path_trained_models = \"/home/john/Documents/MESArthritis/\")"
   ]
  },
  {
   "cell_type": "code",
   "execution_count": null,
   "id": "b63f43aa-0d0b-44e2-a107-60313b34435d",
   "metadata": {},
   "outputs": [],
   "source": [
    "import pixellib\n",
    "from pixellib.custom_train import instance_custom_training\n",
    "\n",
    "train_maskrcnn = instance_custom_training()\n",
    "train_maskrcnn.modelConfig(network_backbone = \"resnet101\", num_classes= 3, batch_size = 12)\n",
    "train_maskrcnn.load_pretrained_model(\"/home/john/Documents/MESArthritis/mask_rcnn_coco.h5\")\n",
    "train_maskrcnn.load_dataset(\"/home/john/Documents/MESArthritis/ChestCT\")\n",
    "train_maskrcnn.evaluate_model(\"/home/john/Documents/MESArthritis/Run3_92.h5\")"
   ]
  },
  {
   "cell_type": "code",
   "execution_count": null,
   "id": "3924d394-1934-483d-af08-52f58dbdeac9",
   "metadata": {},
   "outputs": [],
   "source": []
  },
  {
   "cell_type": "code",
   "execution_count": null,
   "id": "528a4cdc-7997-427a-8827-213d5389b7b0",
   "metadata": {},
   "outputs": [],
   "source": [
    "from pixellib.instance import custom_segmentation\n",
    "\n",
    "segment_image = custom_segmentation()\n",
    "segment_image.inferConfig(num_classes = 3, class_names= [\"BG\", \"PMR\", \"PML\", \"SAT\"], detection_threshold = 0.8, network_backbone = \"resnet101\")\n",
    "segment_image.load_model(\"/home/john/Documents/MESArthritis/Run3_92.h5\")"
   ]
  },
  {
   "cell_type": "code",
   "execution_count": null,
   "id": "7db500fc-5ab9-42bd-84b7-b5262b3e8c17",
   "metadata": {},
   "outputs": [],
   "source": [
    "import numpy as np\n",
    "from PIL import Image\n",
    "import cv2\n",
    "import os\n",
    "\n",
    "inputdir = '/home/john/Documents/MESArthritis/Aortic_Arch/'\n",
    "outdir = '/home/john/Documents/MESArthritis/Inference/Output/'\n",
    "outdir1 = '/home/john/Documents/MESArthritis/Inference/PM/PMR_Mask_'\n",
    "outdir2 = '/home/john/Documents/MESArthritis/Inference/PM/PMR_'\n",
    "outdir3 = '/home/john/Documents/MESArthritis/Inference/SAT/SAT_Mask_'\n",
    "outdir4 = '/home/john/Documents/MESArthritis/Inference/SAT/SAT_'\n",
    "outdir5 = '/home/john/Documents/MESArthritis/Inference/PM/PML_Mask_'\n",
    "outdir6 = '/home/john/Documents/MESArthritis/Inference/PM/PML_'\n",
    "\n",
    "test_list = [ f for f in  os.listdir(inputdir)]\n",
    "\n",
    "for f in test_list:\n",
    "    if f.endswith('.png'):\n",
    "        segmask, output = segment_image.segmentImage(inputdir + f, extract_segmented_objects = False, mask_points_values = True, show_bboxes=False)\n",
    "        a,b,c = [ [individualArray] for individualArray in segmask['masks'] ]\n",
    "\n",
    "        cv2.imwrite(outdir + f, output)\n",
    "        a1 = np.array(a)\n",
    "        b1 = np.array(b)\n",
    "        c1 = np.array(c)\n",
    "        for i in a1.tolist():\n",
    "            mask1 = np.asarray(Image.open(inputdir + f))\n",
    "            img1 = cv2.fillPoly(mask1, np.array(i), color=(0, 0, 0))\n",
    "            maskB = Image.fromarray(img1)\n",
    "        for i in a1.tolist():\n",
    "            mask2 = np.asarray(Image.open(inputdir + f))\n",
    "            img2 = cv2.fillPoly(mask2, np.array(i), color=(255, 255, 255))\n",
    "            maskW = Image.fromarray(img2)\n",
    "            ROI_PMR_Mask = np.subtract(maskW, maskB)\n",
    "            ROI_PMR = np.subtract(maskW, np.asarray(Image.open(inputdir + f)))\n",
    "            cv2.imwrite(outdir1 + f, ROI_PMR_Mask)\n",
    "            cv2.imwrite(outdir2 + f, ROI_PMR)\n",
    "        for i in b1.tolist():\n",
    "            mask3 = np.asarray(Image.open(inputdir + f))\n",
    "            img3 = cv2.fillPoly(mask3, np.array(i), color=(0, 0, 0))\n",
    "            maskB2 = Image.fromarray(img3)\n",
    "        for i in b1.tolist():\n",
    "            mask4 = np.asarray(Image.open(inputdir + f))\n",
    "            img4 = cv2.fillPoly(mask4, np.array(i), color=(255, 255, 255))\n",
    "            maskW2 = Image.fromarray(img4)\n",
    "            ROI_SAT_Mask = np.subtract(maskW2, maskB2)\n",
    "            ROI_SAT = np.subtract(maskW2, np.asarray(Image.open(inputdir + f)))\n",
    "            cv2.imwrite(outdir3 + f, ROI_SAT_Mask)\n",
    "            cv2.imwrite(outdir4 + f, ROI_SAT)\n",
    "        for i in c1.tolist():\n",
    "            mask5 = np.asarray(Image.open(inputdir + f))\n",
    "            img5 = cv2.fillPoly(mask5, np.array(i), color=(0, 0, 0))\n",
    "            maskB3 = Image.fromarray(img5)\n",
    "        for i in c1.tolist():\n",
    "            mask6 = np.asarray(Image.open(inputdir + f))\n",
    "            img6 = cv2.fillPoly(mask6, np.array(i), color=(255, 255, 255))\n",
    "            maskW3 = Image.fromarray(img6)\n",
    "            ROI_PML_Mask = np.subtract(maskW3, maskB3)\n",
    "            ROI_PML = np.subtract(maskW3, np.asarray(Image.open(inputdir + f)))\n",
    "            cv2.imwrite(outdir5 + f, ROI_PML_Mask)\n",
    "            cv2.imwrite(outdir6 + f, ROI_PML)"
   ]
  },
  {
   "cell_type": "code",
   "execution_count": null,
   "id": "f1a3142c-fac1-4adc-b858-2f4b9d4da466",
   "metadata": {},
   "outputs": [],
   "source": []
  },
  {
   "cell_type": "code",
   "execution_count": null,
   "id": "1f02aca9-3967-46ad-a25c-1372d06d6950",
   "metadata": {},
   "outputs": [],
   "source": [
    "intersection = np.logical_and(PM_R, PM_L)\n",
    "union = np.logical_or(PM_R, PM_L)\n",
    "iou_score = np.sum(intersection) / np.sum(union)"
   ]
  },
  {
   "cell_type": "code",
   "execution_count": null,
   "id": "754cdccc-2061-4751-96e2-cbd24f53476c",
   "metadata": {},
   "outputs": [],
   "source": []
  }
 ],
 "metadata": {
  "kernelspec": {
   "display_name": "Python 3",
   "language": "python",
   "name": "python3"
  },
  "language_info": {
   "codemirror_mode": {
    "name": "ipython",
    "version": 3
   },
   "file_extension": ".py",
   "mimetype": "text/x-python",
   "name": "python",
   "nbconvert_exporter": "python",
   "pygments_lexer": "ipython3",
   "version": "3.7.3"
  }
 },
 "nbformat": 4,
 "nbformat_minor": 5
}
