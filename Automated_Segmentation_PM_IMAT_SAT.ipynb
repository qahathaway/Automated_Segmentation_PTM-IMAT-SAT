{
  "nbformat": 4,
  "nbformat_minor": 0,
  "metadata": {
    "colab": {
      "name": "Automated_Segmentation_PM-IMAT-SAT.ipynb",
      "provenance": [],
      "collapsed_sections": [],
      "authorship_tag": "ABX9TyOXLSdIpKTrCe7J/uHANH4A",
      "include_colab_link": true
    },
    "kernelspec": {
      "name": "python3",
      "display_name": "Python 3"
    },
    "language_info": {
      "name": "python"
    }
  },
  "cells": [
    {
      "cell_type": "markdown",
      "metadata": {
        "id": "view-in-github",
        "colab_type": "text"
      },
      "source": [
        "<a href=\"https://colab.research.google.com/github/qahathaway/Automated_Segmentation_PTM-IMAT-SAT/blob/main/Automated_Segmentation_PM_IMAT_SAT.ipynb\" target=\"_parent\"><img src=\"https://colab.research.google.com/assets/colab-badge.svg\" alt=\"Open In Colab\"/></a>"
      ]
    },
    {
      "cell_type": "code",
      "execution_count": null,
      "metadata": {
        "id": "wrOftCZgXuOr"
      },
      "outputs": [],
      "source": [
        "### Load Essential Packages for DICOM ---> PNG ###\n",
        "import cv2\n",
        "import os\n",
        "import pydicom\n",
        "import numpy as np\n",
        "from skimage import exposure\n",
        "\n",
        "from pydicom import dcmread\n",
        "from pydicom.pixel_data_handlers.util import apply_voi_lut"
      ]
    },
    {
      "cell_type": "code",
      "source": [
        "### Automatically Create PNG from DICOM for All Patients in Directory ###\n",
        "import glob\n",
        "from glob import iglob\n",
        "\n",
        "for filename in glob.iglob('/media/bitlockermount/MESArthritis/**/*.dcm',recursive = True):\n",
        "    ds = pydicom.read_file(filename) #read dicom image\n",
        "    img = ds.pixel_array # get image array\n",
        "    img2 = (np.maximum(img, 925) / img.max()) * 255.0\n",
        "    img3 = cv2.resize(img2, (12, 12), interpolation = cv2.INTER_NEAREST) \n",
        "    cv2.imwrite('/home/john/Documents/MESArthritis/Recursive' + filename.replace('.dcm','.png'),img3) # write png image"
      ],
      "metadata": {
        "id": "3RL5UhduYbYK"
      },
      "execution_count": null,
      "outputs": []
    },
    {
      "cell_type": "code",
      "source": [
        "### Automatically Create PNG from DICOM for Individual Patients ###\n",
        "inputdir = '/media/bitlockermount/MESArthritis/MESA3010007/'\n",
        "outdir = '/home/john/Documents/MESArthritis/MESA3010007/'\n",
        "\n",
        "test_list = [ f for f in  os.listdir(inputdir)]\n",
        "\n",
        "for f in test_list[:10]:   # remove \"[:10]\" to convert all images \n",
        "    ds = pydicom.read_file(inputdir + f) # read dicom image\n",
        "    img = ds.pixel_array # get image array\n",
        "    img2 = (np.maximum(img, 925) / img.max()) * 255.0\n",
        "    img3 = cv2.resize(img2, (1200, 1200), interpolation = cv2.INTER_NEAREST) \n",
        "    cv2.imwrite(outdir + f.replace('.dcm','.png'),img3) # write png image"
      ],
      "metadata": {
        "id": "O6Zy6o9YY36-"
      },
      "execution_count": null,
      "outputs": []
    },
    {
      "cell_type": "code",
      "source": [
        ""
      ],
      "metadata": {
        "id": "RLZfMgZhZevi"
      },
      "execution_count": null,
      "outputs": []
    },
    {
      "cell_type": "code",
      "source": [
        "### Load Essential Packages for Automatic Selection of PNG Directly Above Aortic Arch ###\n",
        "import numpy as np\n",
        "import pandas as pd\n",
        "import cv2\n",
        "from imutils import paths\n",
        "import argparse\n",
        "import pickle\n",
        "import vptree\n",
        "import matplotlib.pyplot as plt\n",
        "import time"
      ],
      "metadata": {
        "id": "5xss6TbWY8RN"
      },
      "execution_count": null,
      "outputs": []
    },
    {
      "cell_type": "code",
      "source": [
        "### Create Image Hashing ###\n",
        "def dhash(image, hashSize=8):\n",
        "    resized = cv2.resize(image, (hashSize + 1, hashSize))\n",
        "    diff = resized[:, 1:] > resized[:, :-1]\n",
        "    return sum([2 ** i for (i, v) in enumerate(diff.flatten()) if v])\n",
        "\n",
        "### Converting Data Types ###\n",
        "def convert_hash(h):\n",
        "    return int(np.array(h, dtype=\"float64\"))\n",
        "\n",
        "def hamming(a, b):\n",
        "    return bin(int(a) ^ int(b)).count(\"1\")"
      ],
      "metadata": {
        "id": "16PhGAe5Y8ZV"
      },
      "execution_count": null,
      "outputs": []
    },
    {
      "cell_type": "code",
      "source": [
        "imagePaths = list(paths.list_images(\"/home/john/Documents/MESArthritis/MESA3010090/\"))\n",
        "hashes= {}\n",
        "\n",
        "### Loading and Hashing the Images ###\n",
        "for (i, img_path) in enumerate(imagePaths):\n",
        "    image = cv2.imread(img_path)\n",
        "    h = dhash(image)\n",
        "    h = convert_hash(h)\n",
        "    l = hashes.get(h, [])\n",
        "    l.append(img_path)\n",
        "    hashes[h] = l"
      ],
      "metadata": {
        "id": "oV4BFRwyY8bt"
      },
      "execution_count": null,
      "outputs": []
    },
    {
      "cell_type": "code",
      "source": [
        "points = list(hashes.keys())\n",
        "tree = vptree.VPTree(points, hamming) #Creating VP-Tree"
      ],
      "metadata": {
        "id": "OQmjvtXgY8eU"
      },
      "execution_count": null,
      "outputs": []
    },
    {
      "cell_type": "code",
      "source": [
        "### Serializing VP-Tree ###\n",
        "f = open(\"tree.pickle\", \"wb\")\n",
        "f.write(pickle.dumps(tree))\n",
        "f.close()\n",
        "\n",
        "### Serialize the Hashes to Dictionary ###\n",
        "f = open(\"hashes.pickle\", \"wb\")\n",
        "f.write(pickle.dumps(hashes))\n",
        "f.close()"
      ],
      "metadata": {
        "id": "o7UmPV-YY8gV"
      },
      "execution_count": null,
      "outputs": []
    },
    {
      "cell_type": "code",
      "source": [
        "tree = pickle.loads(open(\"tree.pickle\", \"rb\").read())\n",
        "hashes = pickle.loads(open(\"hashes.pickle\", \"rb\").read())\n",
        "\n",
        "### Compute the Hash for the Query Image, then Convert It ###\n",
        "queryHash = dhash(image)\n",
        "queryHash = convert_hash(queryHash)"
      ],
      "metadata": {
        "id": "VcFCgEqCY8ic"
      },
      "execution_count": null,
      "outputs": []
    },
    {
      "cell_type": "code",
      "source": [
        "image = cv2.imread(\"/home/john/Documents/MESArthritis/IM-0205-0102.png\")"
      ],
      "metadata": {
        "id": "1K5v_HUIY8nF"
      },
      "execution_count": null,
      "outputs": []
    },
    {
      "cell_type": "code",
      "source": [
        "queryHash = dhash(image)\n",
        "queryHash = convert_hash(queryHash)"
      ],
      "metadata": {
        "id": "rvO4TfA2ZF6f"
      },
      "execution_count": null,
      "outputs": []
    },
    {
      "cell_type": "code",
      "source": [
        "start = time.time()\n",
        "results = tree.get_all_in_range(queryHash, 13)\n",
        "results = sorted(results)\n",
        "end = time.time()\n",
        "print(\">>> search took {} seconds\".format(end - start))"
      ],
      "metadata": {
        "id": "E9XP2YCFZF8u"
      },
      "execution_count": null,
      "outputs": []
    },
    {
      "cell_type": "code",
      "source": [
        "### Loop Over the Results and Select the Most Similar PNG ###\n",
        "for (d, h) in results[:1]:\n",
        "    resultPaths = hashes.get(h, [])\n",
        "    print(\">>> {} total image(s) with d: {}, h: {}\".format(len(resultPaths), d, h))\n",
        "    for resultPath in resultPaths:\n",
        "        result = cv2.imread(resultPath)\n",
        "        cv2.imwrite('/home/john/Documents/MESArthritis/MESA3010058.png',result)\n",
        "        plt.imshow(result)\n",
        "        plt.show()"
      ],
      "metadata": {
        "id": "_2TMrR46ZF-2"
      },
      "execution_count": null,
      "outputs": []
    },
    {
      "cell_type": "code",
      "source": [
        ""
      ],
      "metadata": {
        "id": "0REcid4CZGA-"
      },
      "execution_count": null,
      "outputs": []
    },
    {
      "cell_type": "code",
      "source": [
        "### Load Essential Packages for Creating ROI for PM, IMAT, and SAT ###\n",
        "import os\n",
        "import sys\n",
        "import random\n",
        "import math\n",
        "import re\n",
        "import time\n",
        "import numpy as np\n",
        "import cv2\n",
        "import matplotlib\n",
        "import matplotlib.pyplot as plt\n",
        "\n",
        "# Root directory of the project\n",
        "ROOT_DIR = os.path.abspath(\"../../\")\n",
        "\n",
        "# Import Mask RCNN\n",
        "sys.path.append(ROOT_DIR)  # To find local version of the library\n",
        "from mrcnn.config import Config\n",
        "from mrcnn import utils\n",
        "import mrcnn.model as modellib\n",
        "from mrcnn import visualize\n",
        "from mrcnn.model import log\n",
        "\n",
        "%matplotlib inline \n",
        "\n",
        "# Directory to save logs and trained model\n",
        "MODEL_DIR = os.path.join(ROOT_DIR, \"logs\")\n",
        "\n",
        "# Local path to trained weights file\n",
        "COCO_MODEL_PATH = os.path.join(ROOT_DIR, \"mask_rcnn_coco.h5\")\n",
        "# Download COCO trained weights from Releases if needed\n",
        "if not os.path.exists(COCO_MODEL_PATH):\n",
        "    utils.download_trained_weights(COCO_MODEL_PATH)"
      ],
      "metadata": {
        "id": "NoyZ2Ae5aB71"
      },
      "execution_count": null,
      "outputs": []
    },
    {
      "cell_type": "code",
      "source": [
        "class ShapesConfig(Config):\n",
        "    \"\"\"Configuration for training on the toy shapes dataset.\n",
        "    Derives from the base Config class and overrides values specific\n",
        "    to the toy shapes dataset.\n",
        "    \"\"\"\n",
        "    # Give the configuration a recognizable name\n",
        "    NAME = \"shapes\"\n",
        "\n",
        "    # Train on 1 GPU and 8 images per GPU. We can put multiple images on each\n",
        "    # GPU because the images are small. Batch size is 8 (GPUs * images/GPU).\n",
        "    GPU_COUNT = 1\n",
        "    IMAGES_PER_GPU = 8\n",
        "\n",
        "    # Number of classes (including background)\n",
        "    NUM_CLASSES = 1 + 3  # background + 3 shapes\n",
        "\n",
        "    # Use small images for faster training. Set the limits of the small side\n",
        "    # the large side, and that determines the image shape.\n",
        "    IMAGE_MIN_DIM = 128\n",
        "    IMAGE_MAX_DIM = 128\n",
        "\n",
        "    # Use smaller anchors because our image and objects are small\n",
        "    RPN_ANCHOR_SCALES = (8, 16, 32, 64, 128)  # anchor side in pixels\n",
        "\n",
        "    # Reduce training ROIs per image because the images are small and have\n",
        "    # few objects. Aim to allow ROI sampling to pick 33% positive ROIs.\n",
        "    TRAIN_ROIS_PER_IMAGE = 32\n",
        "\n",
        "    # Use a small epoch since the data is simple\n",
        "    STEPS_PER_EPOCH = 100\n",
        "\n",
        "    # use small validation steps since the epoch is small\n",
        "    VALIDATION_STEPS = 5\n",
        "    \n",
        "config = ShapesConfig()\n",
        "config.display()"
      ],
      "metadata": {
        "id": "eg9zZLAbbyUL"
      },
      "execution_count": null,
      "outputs": []
    },
    {
      "cell_type": "code",
      "source": [
        "def get_ax(rows=1, cols=1, size=8):\n",
        "    \"\"\"Return a Matplotlib Axes array to be used in\n",
        "    all visualizations in the notebook. Provide a\n",
        "    central point to control graph sizes.\n",
        "    \n",
        "    Change the default size attribute to control the size\n",
        "    of rendered images\n",
        "    \"\"\"\n",
        "    _, ax = plt.subplots(rows, cols, figsize=(size*cols, size*rows))\n",
        "    return ax"
      ],
      "metadata": {
        "id": "UFVShsnWbyz5"
      },
      "execution_count": null,
      "outputs": []
    },
    {
      "cell_type": "code",
      "source": [
        "class ShapesDataset(utils.Dataset):\n",
        "    \"\"\"Generates the shapes synthetic dataset. The dataset consists of simple\n",
        "    shapes (triangles, squares, circles) placed randomly on a blank surface.\n",
        "    The images are generated on the fly. No file access required.\n",
        "    \"\"\"\n",
        "\n",
        "    def load_shapes(self, count, height, width):\n",
        "        \"\"\"Generate the requested number of synthetic images.\n",
        "        count: number of images to generate.\n",
        "        height, width: the size of the generated images.\n",
        "        \"\"\"\n",
        "        # Add classes\n",
        "        self.add_class(\"shapes\", 1, \"square\")\n",
        "        self.add_class(\"shapes\", 2, \"circle\")\n",
        "        self.add_class(\"shapes\", 3, \"triangle\")\n",
        "\n",
        "        # Add images\n",
        "        # Generate random specifications of images (i.e. color and\n",
        "        # list of shapes sizes and locations). This is more compact than\n",
        "        # actual images. Images are generated on the fly in load_image().\n",
        "        for i in range(count):\n",
        "            bg_color, shapes = self.random_image(height, width)\n",
        "            self.add_image(\"shapes\", image_id=i, path=None,\n",
        "                           width=width, height=height,\n",
        "                           bg_color=bg_color, shapes=shapes)\n",
        "\n",
        "    def load_image(self, image_id):\n",
        "        \"\"\"Generate an image from the specs of the given image ID.\n",
        "        Typically this function loads the image from a file, but\n",
        "        in this case it generates the image on the fly from the\n",
        "        specs in image_info.\n",
        "        \"\"\"\n",
        "        info = self.image_info[image_id]\n",
        "        bg_color = np.array(info['bg_color']).reshape([1, 1, 3])\n",
        "        image = np.ones([info['height'], info['width'], 3], dtype=np.uint8)\n",
        "        image = image * bg_color.astype(np.uint8)\n",
        "        for shape, color, dims in info['shapes']:\n",
        "            image = self.draw_shape(image, shape, dims, color)\n",
        "        return image\n",
        "\n",
        "    def image_reference(self, image_id):\n",
        "        \"\"\"Return the shapes data of the image.\"\"\"\n",
        "        info = self.image_info[image_id]\n",
        "        if info[\"source\"] == \"shapes\":\n",
        "            return info[\"shapes\"]\n",
        "        else:\n",
        "            super(self.__class__).image_reference(self, image_id)\n",
        "\n",
        "    def load_mask(self, image_id):\n",
        "        \"\"\"Generate instance masks for shapes of the given image ID.\n",
        "        \"\"\"\n",
        "        info = self.image_info[image_id]\n",
        "        shapes = info['shapes']\n",
        "        count = len(shapes)\n",
        "        mask = np.zeros([info['height'], info['width'], count], dtype=np.uint8)\n",
        "        for i, (shape, _, dims) in enumerate(info['shapes']):\n",
        "            mask[:, :, i:i+1] = self.draw_shape(mask[:, :, i:i+1].copy(),\n",
        "                                                shape, dims, 1)\n",
        "        # Handle occlusions\n",
        "        occlusion = np.logical_not(mask[:, :, -1]).astype(np.uint8)\n",
        "        for i in range(count-2, -1, -1):\n",
        "            mask[:, :, i] = mask[:, :, i] * occlusion\n",
        "            occlusion = np.logical_and(occlusion, np.logical_not(mask[:, :, i]))\n",
        "        # Map class names to class IDs.\n",
        "        class_ids = np.array([self.class_names.index(s[0]) for s in shapes])\n",
        "        return mask.astype(np.bool), class_ids.astype(np.int32)\n",
        "\n",
        "    def draw_shape(self, image, shape, dims, color):\n",
        "        \"\"\"Draws a shape from the given specs.\"\"\"\n",
        "        # Get the center x, y and the size s\n",
        "        x, y, s = dims\n",
        "        if shape == 'square':\n",
        "            cv2.rectangle(image, (x-s, y-s), (x+s, y+s), color, -1)\n",
        "        elif shape == \"circle\":\n",
        "            cv2.circle(image, (x, y), s, color, -1)\n",
        "        elif shape == \"triangle\":\n",
        "            points = np.array([[(x, y-s),\n",
        "                                (x-s/math.sin(math.radians(60)), y+s),\n",
        "                                (x+s/math.sin(math.radians(60)), y+s),\n",
        "                                ]], dtype=np.int32)\n",
        "            cv2.fillPoly(image, points, color)\n",
        "        return image\n",
        "\n",
        "    def random_shape(self, height, width):\n",
        "        \"\"\"Generates specifications of a random shape that lies within\n",
        "        the given height and width boundaries.\n",
        "        Returns a tuple of three valus:\n",
        "        * The shape name (square, circle, ...)\n",
        "        * Shape color: a tuple of 3 values, RGB.\n",
        "        * Shape dimensions: A tuple of values that define the shape size\n",
        "                            and location. Differs per shape type.\n",
        "        \"\"\"\n",
        "        # Shape\n",
        "        shape = random.choice([\"square\", \"circle\", \"triangle\"])\n",
        "        # Color\n",
        "        color = tuple([random.randint(0, 255) for _ in range(3)])\n",
        "        # Center x, y\n",
        "        buffer = 20\n",
        "        y = random.randint(buffer, height - buffer - 1)\n",
        "        x = random.randint(buffer, width - buffer - 1)\n",
        "        # Size\n",
        "        s = random.randint(buffer, height//4)\n",
        "        return shape, color, (x, y, s)\n",
        "\n",
        "    def random_image(self, height, width):\n",
        "        \"\"\"Creates random specifications of an image with multiple shapes.\n",
        "        Returns the background color of the image and a list of shape\n",
        "        specifications that can be used to draw the image.\n",
        "        \"\"\"\n",
        "        # Pick random background color\n",
        "        bg_color = np.array([random.randint(0, 255) for _ in range(3)])\n",
        "        # Generate a few random shapes and record their\n",
        "        # bounding boxes\n",
        "        shapes = []\n",
        "        boxes = []\n",
        "        N = random.randint(1, 4)\n",
        "        for _ in range(N):\n",
        "            shape, color, dims = self.random_shape(height, width)\n",
        "            shapes.append((shape, color, dims))\n",
        "            x, y, s = dims\n",
        "            boxes.append([y-s, x-s, y+s, x+s])\n",
        "        # Apply non-max suppression wit 0.3 threshold to avoid\n",
        "        # shapes covering each other\n",
        "        keep_ixs = utils.non_max_suppression(np.array(boxes), np.arange(N), 0.3)\n",
        "        shapes = [s for i, s in enumerate(shapes) if i in keep_ixs]\n",
        "        return bg_color, shapes"
      ],
      "metadata": {
        "id": "-Fi-Q3ASby2B"
      },
      "execution_count": null,
      "outputs": []
    },
    {
      "cell_type": "code",
      "source": [
        ""
      ],
      "metadata": {
        "id": "-3RK3eZfb3T9"
      },
      "execution_count": null,
      "outputs": []
    }
  ]
}