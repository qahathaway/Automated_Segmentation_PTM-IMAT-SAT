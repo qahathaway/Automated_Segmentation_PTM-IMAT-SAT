{
  "nbformat": 4,
  "nbformat_minor": 0,
  "metadata": {
    "colab": {
      "provenance": [],
      "include_colab_link": true
    },
    "kernelspec": {
      "name": "python3",
      "display_name": "Python 3"
    },
    "language_info": {
      "name": "python"
    }
  },
  "cells": [
    {
      "cell_type": "markdown",
      "metadata": {
        "id": "view-in-github",
        "colab_type": "text"
      },
      "source": [
        "<a href=\"https://colab.research.google.com/github/qahathaway/Automated_Segmentation_PTM-IMAT-SAT/blob/main/Pectoralis_Semantic_Segmentation_Colab.ipynb\" target=\"_parent\"><img src=\"https://colab.research.google.com/assets/colab-badge.svg\" alt=\"Open In Colab\"/></a>"
      ]
    },
    {
      "cell_type": "code",
      "source": [
        "!sudo apt-get install python3.7\n",
        "!sudo apt-get update -y\n",
        "!sudo update-alternatives --install /usr/bin/python3 python3 /usr/bin/python3.7.1 1\n",
        "!sudo update-alternatives --config python3 <<< '2'"
      ],
      "metadata": {
        "id": "9J8N2vIAv1sM"
      },
      "execution_count": null,
      "outputs": []
    },
    {
      "cell_type": "code",
      "source": [
        "!python --version"
      ],
      "metadata": {
        "id": "Ro8JW3sew0aI"
      },
      "execution_count": null,
      "outputs": []
    },
    {
      "cell_type": "code",
      "execution_count": null,
      "metadata": {
        "id": "sd9aCNZqKFqU"
      },
      "outputs": [],
      "source": [
        "!git clone https://github.com/qahathaway/Automated_Segmentation_PTM-IMAT-SAT.git"
      ]
    },
    {
      "cell_type": "code",
      "source": [
        "!mkdir /content/Automated_Segmentation_PTM-IMAT-SAT/Selected\n",
        "!mkdir /content/Automated_Segmentation_PTM-IMAT-SAT/Output\n",
        "!mkdir /content/Automated_Segmentation_PTM-IMAT-SAT/Mask_Infer"
      ],
      "metadata": {
        "id": "ljp8oC-Uam_4"
      },
      "execution_count": null,
      "outputs": []
    },
    {
      "cell_type": "markdown",
      "source": [
        "# Step 3: Select the frame directly above the aortic arch"
      ],
      "metadata": {
        "id": "oBaJ0bf8bGIR"
      }
    },
    {
      "cell_type": "code",
      "source": [
        "### Load Essential Packages ###\n",
        "import numpy as np\n",
        "import pandas as pd\n",
        "import os\n",
        "import cv2\n",
        "from imutils import paths\n",
        "import argparse\n",
        "import glob\n",
        "from glob import iglob\n",
        "\n",
        "n_white_pix = []\n",
        "names = []\n",
        "file_count = []\n",
        "index = 0\n",
        "\n",
        "### Select Frame Directly Above the Aorta ###\n",
        "for filename in sorted(glob.glob('/content/Automated_Segmentation_PTM-IMAT-SAT/Example/**/axial_*.png'), key=lambda name: (name[53:61], int(os.path.basename(name)[14:-4]))):\n",
        "    image = cv2.imread(filename)\n",
        "    names.append(filename)\n",
        "    pathlen, filenamed = os.path.split(filename)\n",
        "    file_count = len(glob.glob1(pathlen,\"axial_*.png\"))\n",
        "    image[image <= 80] = 0\n",
        "    image[image >= 140] = 0\n",
        "    cropped = image[165:360, 180:332]\n",
        "    n_white_pix = np.append(n_white_pix, np.sum(cropped > 0))\n",
        "    index += 1\n",
        "\n",
        "### Select the Array of Images to Search and Apply Pixel Intensities to Stratify ###\n",
        "    if index == file_count:\n",
        "        lower = int(file_count*0.6)\n",
        "        upper = int(file_count*0.85)\n",
        "        minimum = (np.argmin(n_white_pix[lower:upper]) + lower)\n",
        "        midline = cv2.imread(names[minimum])\n",
        "        path, filenames = os.path.split(names[minimum])\n",
        "        path2 = os.path.basename(path)\n",
        "        cv2.imwrite('/content/Automated_Segmentation_PTM-IMAT-SAT/Selected/' + path2 + \"_\" + filenames, midline)\n",
        "\n",
        "        n_white_pix = []\n",
        "        names = []\n",
        "        file_count = []\n",
        "        index = 0\n",
        "\n",
        "    else:\n",
        "        continue"
      ],
      "metadata": {
        "id": "E4EmiQZsK1wl"
      },
      "execution_count": null,
      "outputs": []
    },
    {
      "cell_type": "markdown",
      "source": [
        "\n",
        "# Step 4: Custom semantic segmentation using Pixellib and Mask R-CNN for all remaining participants"
      ],
      "metadata": {
        "id": "ze0DGGXjbJAR"
      }
    },
    {
      "cell_type": "code",
      "source": [
        "!sudo apt install python3-pip"
      ],
      "metadata": {
        "id": "V7YQ7MbUw8k4"
      },
      "execution_count": null,
      "outputs": []
    },
    {
      "cell_type": "code",
      "source": [
        "!pip install tensorflow==2.5.3\n",
        "!pip install tensorflow-gpu==2.5.0\n",
        "!pip install tensorboard==2.5.0\n",
        "!pip install keras==2.4.3\n",
        "!pip install numpy==1.19.5\n",
        "!pip install pillow==8.2.0\n",
        "!pip install labelme2coco\n",
        "!pip install PyQt5==5.15.5\n",
        "!pip install pixellib==0.7.1\n",
        "!pip install scikit-image==0.18.0"
      ],
      "metadata": {
        "id": "1ksy6sRaw8nW"
      },
      "execution_count": null,
      "outputs": []
    },
    {
      "cell_type": "code",
      "source": [
        "### Load Essential Packages ###\n",
        "import pixellib\n",
        "from pixellib.custom_train import instance_custom_training\n",
        "\n",
        "### Train the MASK R-CNN Model from the Groundtruth Images ###\n",
        "train_maskrcnn = instance_custom_training()\n",
        "train_maskrcnn.modelConfig(network_backbone = \"resnet50\", num_classes= 3, batch_size = 12)\n",
        "train_maskrcnn.load_pretrained_model(\"/content/Automated_Segmentation_PTM-IMAT-SAT/COCO/mask_rcnn_coco.h5\")\n",
        "train_maskrcnn.load_dataset(\"path/to/manual/segementation\")\n",
        "train_maskrcnn.train_model(num_epochs = 12, augmentation=False,  path_trained_models = \"/content/Automated_Segmentation_PTM-IMAT-SAT/COCO/\")"
      ],
      "metadata": {
        "id": "cDxyzoc9M39t"
      },
      "execution_count": null,
      "outputs": []
    },
    {
      "cell_type": "code",
      "source": [
        "### Load Essential Packages ###\n",
        "import pixellib\n",
        "from pixellib.custom_train import instance_custom_training\n",
        "\n",
        "### Evaluate performance of the MASK R-CNN Model using the Test/Holdout Group ###\n",
        "train_maskrcnn = instance_custom_training()\n",
        "train_maskrcnn.modelConfig(network_backbone = \"resnet50\", num_classes= 3, batch_size = 1)\n",
        "train_maskrcnn.load_pretrained_model(\"/content/Automated_Segmentation_PTM-IMAT-SAT/COCO/mask_rcnn_coco.h5\")\n",
        "train_maskrcnn.load_dataset(\"path/to/manual/segementation\")\n",
        "train_maskrcnn.evaluate_model(\"/content/Automated_Segmentation_PTM-IMAT-SAT/COCO/95_MSK_3_Class.h5\")"
      ],
      "metadata": {
        "id": "hP8MehzVO8J7"
      },
      "execution_count": null,
      "outputs": []
    },
    {
      "cell_type": "code",
      "source": [
        "### Load Essential Packages ###\n",
        "import pixellib\n",
        "from pixellib.instance import custom_segmentation\n",
        "\n",
        "### Custom Segmentation of Left PMAT, Right PMAT, and SAT ###\n",
        "segment_image = custom_segmentation()\n",
        "segment_image.inferConfig(num_classes = 3, class_names= [\"BG\", \"PMR\", \"PML\", \"SAT\"], detection_threshold = 0.9, network_backbone = \"resnet50\")\n",
        "segment_image.load_model(\"/content/Automated_Segmentation_PTM-IMAT-SAT/COCO/95_MSK_3_Class.h5\")"
      ],
      "metadata": {
        "id": "RV4SZVW7xG7y"
      },
      "execution_count": null,
      "outputs": []
    },
    {
      "cell_type": "code",
      "source": [
        "### Load Essential Packages ###\n",
        "import numpy as np\n",
        "from PIL import Image\n",
        "import cv2\n",
        "import os\n",
        "\n",
        "### Set Directories ###\n",
        "inputdir = '/content/Automated_Segmentation_PTM-IMAT-SAT/Selected/'\n",
        "outdir = '/content/Automated_Segmentation_PTM-IMAT-SAT/Output/'\n",
        "outdir1 = '/content/Automated_Segmentation_PTM-IMAT-SAT/Mask_Infer/PMR_Mask_'\n",
        "outdir2 = '/content/Automated_Segmentation_PTM-IMAT-SAT/Mask_Infer/PMR_'\n",
        "outdir3 = '/content/Automated_Segmentation_PTM-IMAT-SAT/Mask_Infer/PML_Mask_'\n",
        "outdir4 = '/content/Automated_Segmentation_PTM-IMAT-SAT/Mask_Infer/PML_'\n",
        "outdir5 = '/content/Automated_Segmentation_PTM-IMAT-SAT/Mask_Infer/SAT_Mask_'\n",
        "outdir6 = '/content/Automated_Segmentation_PTM-IMAT-SAT/Mask_Infer/SAT_'\n",
        "\n",
        "test_list = [ f for f in  os.listdir(inputdir)]\n",
        "\n",
        "### Inference of Left PMAT, Right PMAT, and SAT Images Based on Mask R-CNN Model ###\n",
        "for f in sorted (test_list):\n",
        "    if f.endswith('.png'):\n",
        "        segmask, output = segment_image.segmentImage(inputdir + f, extract_segmented_objects = False, mask_points_values = True, show_bboxes=False)\n",
        "        class_list = segmask['class_ids'].tolist()\n",
        "        class_str = ''.join(str(x) for x in class_list)\n",
        "        try:\n",
        "            if class_str == '321':\n",
        "                c,b,a = [ [individualArray] for individualArray in segmask['masks'] ]\n",
        "            elif class_str == '312':\n",
        "                c,a,b = [ [individualArray] for individualArray in segmask['masks'] ]\n",
        "            elif class_str == '231':\n",
        "                b,c,a = [ [individualArray] for individualArray in segmask['masks'] ]\n",
        "            elif class_str == '213':\n",
        "                b,a,c = [ [individualArray] for individualArray in segmask['masks'] ]\n",
        "            elif class_str == '132':\n",
        "                a,c,b = [ [individualArray] for individualArray in segmask['masks'] ]\n",
        "            else:\n",
        "                a,b,c = [ [individualArray] for individualArray in segmask['masks'] ]\n",
        "        except:\n",
        "            pass\n",
        "\n",
        "        cv2.imwrite(outdir + f, output)\n",
        "        a1 = np.array(a)\n",
        "        b1 = np.array(b)\n",
        "        c1 = np.array(c)\n",
        "        for i in a1.tolist():\n",
        "            mask1 = np.asarray(Image.open(inputdir + f))\n",
        "            mask11 =  mask1[:,:,:3]\n",
        "            img1 = cv2.fillPoly(mask1, np.array(i), color=(0, 0, 0))\n",
        "            maskB = Image.fromarray(mask11)\n",
        "        for i in a1.tolist():\n",
        "            mask2 = np.asarray(Image.open(inputdir + f))\n",
        "            mask22 =  mask2[:,:,:3]\n",
        "            img2 = cv2.fillPoly(mask2, np.array(i), color=(255, 255, 255))\n",
        "            maskW = Image.fromarray(mask22)\n",
        "            ROI_PMR_Mask = np.subtract(maskW, maskB)\n",
        "            ROI_PMR = np.subtract(np.asarray(Image.open(inputdir + f))[:,:,:3], maskB)\n",
        "            cv2.imwrite(outdir1 + f, ROI_PMR_Mask)\n",
        "            cv2.imwrite(outdir2 + f, ROI_PMR)\n",
        "        for i in b1.tolist():\n",
        "            mask3 = np.asarray(Image.open(inputdir + f))\n",
        "            mask33 =  mask3[:,:,:3]\n",
        "            img3 = cv2.fillPoly(mask3, np.array(i), color=(0, 0, 0))\n",
        "            maskB2 = Image.fromarray(mask33)\n",
        "        for i in b1.tolist():\n",
        "            mask4 = np.asarray(Image.open(inputdir + f))\n",
        "            mask44 =  mask4[:,:,:3]\n",
        "            img4 = cv2.fillPoly(mask4, np.array(i), color=(255, 255, 255))\n",
        "            maskW2 = Image.fromarray(mask44)\n",
        "            ROI_SAT_Mask = np.subtract(maskW2, maskB2)\n",
        "            ROI_SAT = np.subtract(np.asarray(Image.open(inputdir + f))[:,:,:3], maskB2)\n",
        "            cv2.imwrite(outdir3 + f, ROI_SAT_Mask)\n",
        "            cv2.imwrite(outdir4 + f, ROI_SAT)\n",
        "        for i in c1.tolist():\n",
        "            mask5 = np.asarray(Image.open(inputdir + f))\n",
        "            mask55 =  mask5[:,:,:3]\n",
        "            img5 = cv2.fillPoly(mask5, np.array(i), color=(0, 0, 0))\n",
        "            maskB3 = Image.fromarray(mask55)\n",
        "        for i in c1.tolist():\n",
        "            mask6 = np.asarray(Image.open(inputdir + f))\n",
        "            mask66 =  mask6[:,:,:3]\n",
        "            img6 = cv2.fillPoly(mask6, np.array(i), color=(255, 255, 255))\n",
        "            maskW3 = Image.fromarray(mask66)\n",
        "            ROI_PML_Mask = np.subtract(maskW3, maskB3)\n",
        "            ROI_PML = np.subtract(np.asarray(Image.open(inputdir + f))[:,:,:3], maskB3)\n",
        "            cv2.imwrite(outdir5 + f, ROI_PML_Mask)\n",
        "            cv2.imwrite(outdir6 + f, ROI_PML)"
      ],
      "metadata": {
        "id": "2-nPDBMMxG-H"
      },
      "execution_count": null,
      "outputs": []
    },
    {
      "cell_type": "markdown",
      "source": [
        "Step 6: Determine the total number of pixels within the ROI"
      ],
      "metadata": {
        "id": "wq3T-hhrxWcB"
      }
    },
    {
      "cell_type": "code",
      "source": [
        "### Load Essential Packages ###\n",
        "import cv2\n",
        "import os\n",
        "import numpy as np\n",
        "import glob\n",
        "from glob import iglob\n",
        "import csv\n",
        "\n",
        "### Count White Pixels in Image ###\n",
        "for filename in sorted(glob.glob('path/to/ROI/**/*.png')):\n",
        "    img = cv2.imread(filename, cv2.IMREAD_GRAYSCALE)\n",
        "    n_white_pix = np.sum(img == 255)\n",
        "    average = img[img!=0].mean()\n",
        "    path, filenames = os.path.split(filename)\n",
        "    path2 = os.path.basename(path)\n",
        "    if \"Mask\" in filenames:\n",
        "        name_type = \"Mask\"\n",
        "    else:\n",
        "        name_type = \"Image\"\n",
        "    if \"PML_Mask_\" in filenames:\n",
        "        name_region = \"Pectoralis Muscle, Left\"\n",
        "    elif \"PMR_Mask_\" in filenames:\n",
        "        name_region = \"Pectoralis Muscle, Right\"\n",
        "    elif \"PML-PATL_Mask_\" in filenames:\n",
        "        name_region = \"Pectoralis Muscle, Left Subtracted from Intermuscular Adipose Tissue, Left\"\n",
        "    elif \"PMR-PATR_Mask_\" in filenames:\n",
        "        name_region = \"Pectoralis Muscle, Right Subtracted from Intermuscular Adipose Tissue, Right\"\n",
        "    elif \"PML-PATL_MESA\" in filenames:\n",
        "        name_region = \"Pectoralis Muscle, Left Subtracted from Intermuscular Adipose Tissue, Left\"\n",
        "    elif \"PMR-PATR_MESA\" in filenames:\n",
        "        name_region = \"Pectoralis Muscle, Right Subtracted from Intermuscular Adipose Tissue, Right\"\n",
        "    elif \"EMLL_Mask_\" in filenames:\n",
        "        name_region = \"Extramyocellular Lipid, Left\"\n",
        "    elif \"EMLR_Mask_\" in filenames:\n",
        "        name_region = \"Extramyocellular Lipid, Right\"\n",
        "    elif \"SAT_Mask_\" in filenames:\n",
        "        name_region = \"Subcutaneous Adipose Tissue\"\n",
        "    elif \"PATL_Mask_\" in filenames:\n",
        "        name_region = \"Intermuscular Adipose Tissue, Left\"\n",
        "    elif \"PATR_Mask_\" in filenames:\n",
        "        name_region = \"Intermuscular Adipose Tissue, Right\"\n",
        "    fields=[path2, name_type, name_region, filenames, n_white_pix, average]\n",
        "    with open('path/to/Measurements_Mask.csv', 'a') as f:\n",
        "        writer = csv.writer(f)\n",
        "        writer.writerow(fields)"
      ],
      "metadata": {
        "id": "BgLxB1VnxM2Z"
      },
      "execution_count": null,
      "outputs": []
    }
  ]
}