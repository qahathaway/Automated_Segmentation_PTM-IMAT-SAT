{
  "nbformat": 4,
  "nbformat_minor": 0,
  "metadata": {
    "colab": {
      "provenance": [],
      "include_colab_link": true
    },
    "kernelspec": {
      "name": "python3",
      "display_name": "Python 3"
    },
    "language_info": {
      "name": "python"
    }
  },
  "cells": [
    {
      "cell_type": "markdown",
      "metadata": {
        "id": "view-in-github",
        "colab_type": "text"
      },
      "source": [
        "<a href=\"https://colab.research.google.com/github/qahathaway/Automated_Segmentation_PTM-IMAT-SAT/blob/main/Pectoralis_Semantic_Segmentation_Colab.ipynb\" target=\"_parent\"><img src=\"https://colab.research.google.com/assets/colab-badge.svg\" alt=\"Open In Colab\"/></a>"
      ]
    },
    {
      "cell_type": "code",
      "execution_count": null,
      "metadata": {
        "colab": {
          "base_uri": "https://localhost:8080/"
        },
        "id": "sd9aCNZqKFqU",
        "outputId": "537333e6-5b4e-44bd-b7a3-6855954c88ca"
      },
      "outputs": [
        {
          "output_type": "stream",
          "name": "stdout",
          "text": [
            "Cloning into 'Automated_Segmentation_PTM-IMAT-SAT'...\n",
            "remote: Enumerating objects: 1982, done.\u001b[K\n",
            "remote: Counting objects: 100% (4/4), done.\u001b[K\n",
            "remote: Compressing objects: 100% (4/4), done.\u001b[K\n",
            "remote: Total 1982 (delta 0), reused 2 (delta 0), pack-reused 1978\u001b[K\n",
            "Receiving objects: 100% (1982/1982), 190.28 MiB | 32.67 MiB/s, done.\n",
            "Resolving deltas: 100% (58/58), done.\n",
            "Updating files: 100% (1843/1843), done.\n",
            "Filtering content: 100% (2/2), 416.60 MiB | 51.93 MiB/s, done.\n"
          ]
        }
      ],
      "source": [
        "!git clone https://github.com/qahathaway/Automated_Segmentation_PTM-IMAT-SAT.git"
      ]
    },
    {
      "cell_type": "code",
      "source": [
        "!mkdir /content/Automated_Segmentation_PTM-IMAT-SAT/Selected\n",
        "!mkdir /content/Automated_Segmentation_PTM-IMAT-SAT/Output\n",
        "!mkdir /content/Automated_Segmentation_PTM-IMAT-SAT/Mask_Infer"
      ],
      "metadata": {
        "id": "ljp8oC-Uam_4"
      },
      "execution_count": null,
      "outputs": []
    },
    {
      "cell_type": "markdown",
      "source": [
        "# Step 3: Select the frame directly above the aortic arch"
      ],
      "metadata": {
        "id": "oBaJ0bf8bGIR"
      }
    },
    {
      "cell_type": "code",
      "source": [
        "### Load Essential Packages ###\n",
        "import numpy as np\n",
        "import pandas as pd\n",
        "import os\n",
        "import cv2\n",
        "from imutils import paths\n",
        "import argparse\n",
        "import glob\n",
        "from glob import iglob\n",
        "\n",
        "n_white_pix = []\n",
        "names = []\n",
        "file_count = []\n",
        "index = 0\n",
        "\n",
        "### Select Frame Directly Above the Aorta ###\n",
        "for filename in sorted(glob.glob('/content/Automated_Segmentation_PTM-IMAT-SAT/Example/**/axial_*.png'), key=lambda name: (name[53:61], int(os.path.basename(name)[14:-4]))):\n",
        "    image = cv2.imread(filename)\n",
        "    names.append(filename)\n",
        "    pathlen, filenamed = os.path.split(filename)\n",
        "    file_count = len(glob.glob1(pathlen,\"axial_*.png\"))\n",
        "    image[image <= 80] = 0\n",
        "    image[image >= 140] = 0\n",
        "    cropped = image[165:360, 180:332]\n",
        "    n_white_pix = np.append(n_white_pix, np.sum(cropped > 0))\n",
        "    index += 1\n",
        "\n",
        "### Select the Array of Images to Search and Apply Pixel Intensities to Stratify ###\n",
        "    if index == file_count:\n",
        "        lower = int(file_count*0.6)\n",
        "        upper = int(file_count*0.85)\n",
        "        minimum = (np.argmin(n_white_pix[lower:upper]) + lower)\n",
        "        midline = cv2.imread(names[minimum])\n",
        "        path, filenames = os.path.split(names[minimum])\n",
        "        path2 = os.path.basename(path)\n",
        "        cv2.imwrite('/content/Automated_Segmentation_PTM-IMAT-SAT/Selected/' + path2 + \"_\" + filenames, midline)\n",
        "\n",
        "        n_white_pix = []\n",
        "        names = []\n",
        "        file_count = []\n",
        "        index = 0\n",
        "\n",
        "    else:\n",
        "        continue"
      ],
      "metadata": {
        "id": "E4EmiQZsK1wl"
      },
      "execution_count": null,
      "outputs": []
    },
    {
      "cell_type": "markdown",
      "source": [
        "\n",
        "# Step 4: Custom semantic segmentation using Pixellib and Mask R-CNN for all remaining participants"
      ],
      "metadata": {
        "id": "ze0DGGXjbJAR"
      }
    },
    {
      "cell_type": "code",
      "source": [
        "### Load Essential Packages ###\n",
        "import pixellib\n",
        "from pixellib.custom_train import instance_custom_training\n",
        "\n",
        "### Train the MASK R-CNN Model from the Groundtruth Images ###\n",
        "train_maskrcnn = instance_custom_training()\n",
        "train_maskrcnn.modelConfig(network_backbone = \"resnet50\", num_classes= 3, batch_size = 12)\n",
        "train_maskrcnn.load_pretrained_model(\"path/to//mask_rcnn_coco.h5\")\n",
        "train_maskrcnn.load_dataset(\"path/to/manual/segementation\")\n",
        "train_maskrcnn.train_model(num_epochs = 4, augmentation=False,  path_trained_models = \"path/to/saved/models/\")"
      ],
      "metadata": {
        "colab": {
          "base_uri": "https://localhost:8080/",
          "height": 35
        },
        "id": "cDxyzoc9M39t",
        "outputId": "42e33323-82a7-4e19-85cd-03f9ab81b5fe"
      },
      "execution_count": null,
      "outputs": [
        {
          "output_type": "execute_result",
          "data": {
            "text/plain": [
              "'axial_IM-2073_560.png'"
            ],
            "application/vnd.google.colaboratory.intrinsic+json": {
              "type": "string"
            }
          },
          "metadata": {},
          "execution_count": 32
        }
      ]
    },
    {
      "cell_type": "code",
      "source": [],
      "metadata": {
        "id": "hP8MehzVO8J7"
      },
      "execution_count": null,
      "outputs": []
    }
  ]
}