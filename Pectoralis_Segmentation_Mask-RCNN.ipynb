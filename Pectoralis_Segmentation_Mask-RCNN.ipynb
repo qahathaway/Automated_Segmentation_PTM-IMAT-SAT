{
  "nbformat": 4,
  "nbformat_minor": 0,
  "metadata": {
    "colab": {
      "name": "py38 success.ipynb",
      "provenance": [],
      "include_colab_link": true
    },
    "kernelspec": {
      "name": "py38",
      "display_name": "Python 3.8"
    }
  },
  "cells": [
    {
      "cell_type": "markdown",
      "metadata": {
        "id": "view-in-github",
        "colab_type": "text"
      },
      "source": [
        "<a href=\"https://colab.research.google.com/github/qahathaway/Automated_Segmentation_PTM-IMAT-SAT/blob/main/Pectoralis_Segmentation_Mask-RCNN.ipynb\" target=\"_parent\"><img src=\"https://colab.research.google.com/assets/colab-badge.svg\" alt=\"Open In Colab\"/></a>"
      ]
    },
    {
      "cell_type": "code",
      "metadata": {
        "id": "hZdyn7fqDqal"
      },
      "source": [
        "!wget -O mini.sh https://repo.anaconda.com/miniconda/Miniconda3-py38_4.8.2-Linux-x86_64.sh\n",
        "!chmod +x mini.sh\n",
        "!bash ./mini.sh -b -f -p /usr/local\n",
        "!conda install -q -y jupyter\n",
        "!conda install -q -y google-colab -c conda-forge\n",
        "!python -m ipykernel install --name \"py38\" --user"
      ],
      "execution_count": null,
      "outputs": []
    },
    {
      "cell_type": "code",
      "metadata": {
        "id": "H80WJWdPFLFL",
        "colab": {
          "base_uri": "https://localhost:8080/"
        },
        "outputId": "c966705b-fda7-4606-d1c2-e48ac318f2a3"
      },
      "source": [
        "# Reload the web page and execute this cell\n",
        "import sys\n",
        "print(\"User Current Version:-\", sys.version)"
      ],
      "execution_count": 1,
      "outputs": [
        {
          "output_type": "stream",
          "name": "stdout",
          "text": [
            "User Current Version:- 3.8.17 (default, Jul  5 2023, 20:41:08) \n",
            "[GCC 11.2.0]\n"
          ]
        }
      ]
    },
    {
      "cell_type": "code",
      "source": [
        "!python --version"
      ],
      "metadata": {
        "id": "-iRRyvYULJNo",
        "colab": {
          "base_uri": "https://localhost:8080/"
        },
        "outputId": "c1df2c2b-614e-4699-817e-8216f61154e6"
      },
      "execution_count": 2,
      "outputs": [
        {
          "output_type": "stream",
          "name": "stdout",
          "text": [
            "Python 3.8.17\n"
          ]
        }
      ]
    },
    {
      "cell_type": "code",
      "source": [
        "!git clone https://github.com/qahathaway/Automated_Segmentation_PTM-IMAT-SAT.git"
      ],
      "metadata": {
        "colab": {
          "base_uri": "https://localhost:8080/"
        },
        "id": "rj04l1VHg-vF",
        "outputId": "a8040a70-341b-48a5-d239-8dd9f15be6a2"
      },
      "execution_count": 3,
      "outputs": [
        {
          "output_type": "stream",
          "name": "stdout",
          "text": [
            "Cloning into 'Automated_Segmentation_PTM-IMAT-SAT'...\n",
            "remote: Enumerating objects: 2001, done.\u001b[K\n",
            "remote: Counting objects: 100% (23/23), done.\u001b[K\n",
            "remote: Compressing objects: 100% (23/23), done.\u001b[K\n",
            "remote: Total 2001 (delta 16), reused 2 (delta 0), pack-reused 1978\u001b[K\n",
            "Receiving objects: 100% (2001/2001), 190.29 MiB | 21.63 MiB/s, done.\n",
            "Resolving deltas: 100% (74/74), done.\n",
            "Updating files: 100% (1845/1845), done.\n",
            "Filtering content: 100% (2/2), 416.60 MiB | 48.01 MiB/s, done.\n"
          ]
        }
      ]
    },
    {
      "cell_type": "code",
      "source": [
        "!mkdir /content/Automated_Segmentation_PTM-IMAT-SAT/Selected\n",
        "!mkdir /content/Automated_Segmentation_PTM-IMAT-SAT/Output\n",
        "!mkdir /content/Automated_Segmentation_PTM-IMAT-SAT/Mask_Infer"
      ],
      "metadata": {
        "id": "Vb7idY2qhBkC"
      },
      "execution_count": 4,
      "outputs": []
    },
    {
      "cell_type": "code",
      "source": [
        "!pip install opencv-python\n",
        "!pip install imutils"
      ],
      "metadata": {
        "colab": {
          "base_uri": "https://localhost:8080/"
        },
        "id": "GEKLWHWnhMDB",
        "outputId": "61664133-4f9c-4674-c322-9b371790bd1c"
      },
      "execution_count": 5,
      "outputs": [
        {
          "output_type": "stream",
          "name": "stdout",
          "text": [
            "Collecting opencv-python\n",
            "  Downloading opencv_python-4.8.0.74-cp37-abi3-manylinux_2_17_x86_64.manylinux2014_x86_64.whl (61.7 MB)\n",
            "\u001b[K     |████████████████████████████████| 61.7 MB 96 kB/s \n",
            "\u001b[?25hRequirement already satisfied: numpy>=1.17.3; python_version >= \"3.8\" in /usr/local/lib/python3.8/site-packages (from opencv-python) (1.22.3)\n",
            "Installing collected packages: opencv-python\n",
            "Successfully installed opencv-python-4.8.0.74\n",
            "Collecting imutils\n",
            "  Downloading imutils-0.5.4.tar.gz (17 kB)\n",
            "Building wheels for collected packages: imutils\n",
            "  Building wheel for imutils (setup.py) ... \u001b[?25l\u001b[?25hdone\n",
            "  Created wheel for imutils: filename=imutils-0.5.4-py3-none-any.whl size=25858 sha256=13e7cd58edf695855f8d5fcae87f455809bcb446b1c53c666be44c6e01649292\n",
            "  Stored in directory: /root/.cache/pip/wheels/59/1b/52/0dea905f8278d5514dc4d0be5e251967f8681670cadd3dca89\n",
            "Successfully built imutils\n",
            "Installing collected packages: imutils\n",
            "Successfully installed imutils-0.5.4\n"
          ]
        }
      ]
    },
    {
      "cell_type": "code",
      "source": [
        "### Load Essential Packages ###\n",
        "import numpy as np\n",
        "import pandas as pd\n",
        "import os\n",
        "import cv2\n",
        "from imutils import paths\n",
        "import argparse\n",
        "import glob\n",
        "from glob import iglob\n",
        "\n",
        "n_white_pix = []\n",
        "names = []\n",
        "file_count = []\n",
        "index = 0\n",
        "\n",
        "### Select Frame Directly Above the Aorta ###\n",
        "for filename in sorted(glob.glob('/content/Automated_Segmentation_PTM-IMAT-SAT/Example/**/axial_*.png'), key=lambda name: (name[53:61], int(os.path.basename(name)[14:-4]))):\n",
        "    image = cv2.imread(filename)\n",
        "    names.append(filename)\n",
        "    pathlen, filenamed = os.path.split(filename)\n",
        "    file_count = len(glob.glob1(pathlen,\"axial_*.png\"))\n",
        "    image[image <= 80] = 0\n",
        "    image[image >= 140] = 0\n",
        "    cropped = image[165:360, 180:332]\n",
        "    n_white_pix = np.append(n_white_pix, np.sum(cropped > 0))\n",
        "    index += 1\n",
        "\n",
        "### Select the Array of Images to Search and Apply Pixel Intensities to Stratify ###\n",
        "    if index == file_count:\n",
        "        lower = int(file_count*0.6)\n",
        "        upper = int(file_count*0.85)\n",
        "        minimum = (np.argmin(n_white_pix[lower:upper]) + lower)\n",
        "        midline = cv2.imread(names[minimum])\n",
        "        path, filenames = os.path.split(names[minimum])\n",
        "        path2 = os.path.basename(path)\n",
        "        cv2.imwrite('/content/Automated_Segmentation_PTM-IMAT-SAT/Selected/' + path2 + \"_\" + filenames, midline)\n",
        "\n",
        "        n_white_pix = []\n",
        "        names = []\n",
        "        file_count = []\n",
        "        index = 0\n",
        "\n",
        "    else:\n",
        "        continue"
      ],
      "metadata": {
        "id": "8v1FX-9yhFuj"
      },
      "execution_count": 6,
      "outputs": []
    },
    {
      "cell_type": "code",
      "source": [
        "!pip install tensorflow==2.5.3\n",
        "!pip install keras==2.4.3\n",
        "!pip install numpy==1.19.5\n",
        "!pip install pillow==8.2.0\n",
        "!pip install PyQt5==5.15.5\n",
        "!pip install pixellib==0.7.1\n",
        "!pip install scikit-image==0.18.0"
      ],
      "metadata": {
        "colab": {
          "base_uri": "https://localhost:8080/",
          "height": 1000
        },
        "id": "shMPc5IyhFww",
        "outputId": "bfddff21-64d9-4e56-fea5-5c6c14c87b63"
      },
      "execution_count": 7,
      "outputs": [
        {
          "output_type": "stream",
          "name": "stdout",
          "text": [
            "Collecting tensorflow==2.5.3\n",
            "  Downloading tensorflow-2.5.3-cp38-cp38-manylinux2010_x86_64.whl (460.4 MB)\n",
            "\u001b[K     |████████████████████████████████| 460.4 MB 29 kB/s \n",
            "\u001b[?25hCollecting typing-extensions~=3.7.4\n",
            "  Downloading typing_extensions-3.7.4.3-py3-none-any.whl (22 kB)\n",
            "Collecting grpcio~=1.34.0\n",
            "  Downloading grpcio-1.34.1-cp38-cp38-manylinux2014_x86_64.whl (4.0 MB)\n",
            "\u001b[K     |████████████████████████████████| 4.0 MB 29.3 MB/s \n",
            "\u001b[?25hCollecting google-pasta~=0.2\n",
            "  Downloading google_pasta-0.2.0-py3-none-any.whl (57 kB)\n",
            "\u001b[K     |████████████████████████████████| 57 kB 5.1 MB/s \n",
            "\u001b[?25hCollecting keras-nightly~=2.5.0.dev\n",
            "  Downloading keras_nightly-2.5.0.dev2021032900-py2.py3-none-any.whl (1.2 MB)\n",
            "\u001b[K     |████████████████████████████████| 1.2 MB 28.8 MB/s \n",
            "\u001b[?25hCollecting protobuf>=3.9.2\n",
            "  Downloading protobuf-4.23.4-cp37-abi3-manylinux2014_x86_64.whl (304 kB)\n",
            "\u001b[K     |████████████████████████████████| 304 kB 53.4 MB/s \n",
            "\u001b[?25hCollecting termcolor~=1.1.0\n",
            "  Downloading termcolor-1.1.0.tar.gz (3.9 kB)\n",
            "Collecting tensorboard~=2.5\n",
            "  Downloading tensorboard-2.13.0-py3-none-any.whl (5.6 MB)\n",
            "\u001b[K     |████████████████████████████████| 5.6 MB 31.2 MB/s \n",
            "\u001b[?25hCollecting tensorflow-estimator<2.6.0,>=2.5.0\n",
            "  Downloading tensorflow_estimator-2.5.0-py2.py3-none-any.whl (462 kB)\n",
            "\u001b[K     |████████████████████████████████| 462 kB 50.4 MB/s \n",
            "\u001b[?25hCollecting six~=1.15.0\n",
            "  Downloading six-1.15.0-py2.py3-none-any.whl (10 kB)\n",
            "Collecting keras-preprocessing~=1.1.2\n",
            "  Downloading Keras_Preprocessing-1.1.2-py2.py3-none-any.whl (42 kB)\n",
            "\u001b[K     |████████████████████████████████| 42 kB 1.3 MB/s \n",
            "\u001b[?25hCollecting h5py~=3.1.0\n",
            "  Downloading h5py-3.1.0-cp38-cp38-manylinux1_x86_64.whl (4.4 MB)\n",
            "\u001b[K     |████████████████████████████████| 4.4 MB 49.5 MB/s \n",
            "\u001b[?25hCollecting wrapt~=1.12.1\n",
            "  Downloading wrapt-1.12.1.tar.gz (27 kB)\n",
            "Collecting astunparse~=1.6.3\n",
            "  Downloading astunparse-1.6.3-py2.py3-none-any.whl (12 kB)\n",
            "Collecting absl-py~=0.10\n",
            "  Downloading absl_py-0.15.0-py3-none-any.whl (132 kB)\n",
            "\u001b[K     |████████████████████████████████| 132 kB 50.7 MB/s \n",
            "\u001b[?25hCollecting wheel~=0.35\n",
            "  Downloading wheel-0.40.0-py3-none-any.whl (64 kB)\n",
            "\u001b[K     |████████████████████████████████| 64 kB 3.1 MB/s \n",
            "\u001b[?25hCollecting flatbuffers~=1.12.0\n",
            "  Downloading flatbuffers-1.12-py2.py3-none-any.whl (15 kB)\n",
            "Collecting gast==0.4.0\n",
            "  Downloading gast-0.4.0-py3-none-any.whl (9.8 kB)\n",
            "Collecting opt-einsum~=3.3.0\n",
            "  Downloading opt_einsum-3.3.0-py3-none-any.whl (65 kB)\n",
            "\u001b[K     |████████████████████████████████| 65 kB 3.5 MB/s \n",
            "\u001b[?25hCollecting numpy~=1.19.2\n",
            "  Downloading numpy-1.19.5-cp38-cp38-manylinux2010_x86_64.whl (14.9 MB)\n",
            "\u001b[K     |████████████████████████████████| 14.9 MB 48.7 MB/s \n",
            "\u001b[?25hCollecting werkzeug>=1.0.1\n",
            "  Downloading Werkzeug-2.3.6-py3-none-any.whl (242 kB)\n",
            "\u001b[K     |████████████████████████████████| 242 kB 70.1 MB/s \n",
            "\u001b[?25hCollecting google-auth-oauthlib<1.1,>=0.5\n",
            "  Downloading google_auth_oauthlib-1.0.0-py2.py3-none-any.whl (18 kB)\n",
            "Requirement already satisfied: setuptools>=41.0.0 in /usr/local/lib/python3.8/site-packages (from tensorboard~=2.5->tensorflow==2.5.3) (45.2.0.post20200210)\n",
            "Collecting tensorboard-data-server<0.8.0,>=0.7.0\n",
            "  Downloading tensorboard_data_server-0.7.1-py3-none-manylinux2014_x86_64.whl (6.6 MB)\n",
            "\u001b[K     |████████████████████████████████| 6.6 MB 42.6 MB/s \n",
            "\u001b[?25hCollecting markdown>=2.6.8\n",
            "  Downloading Markdown-3.4.3-py3-none-any.whl (93 kB)\n",
            "\u001b[K     |████████████████████████████████| 93 kB 2.8 MB/s \n",
            "\u001b[?25hRequirement already satisfied: google-auth<3,>=1.6.3 in /usr/local/lib/python3.8/site-packages (from tensorboard~=2.5->tensorflow==2.5.3) (2.21.0)\n",
            "Requirement already satisfied: requests<3,>=2.21.0 in /usr/local/lib/python3.8/site-packages (from tensorboard~=2.5->tensorflow==2.5.3) (2.22.0)\n",
            "Requirement already satisfied: MarkupSafe>=2.1.1 in /usr/local/lib/python3.8/site-packages (from werkzeug>=1.0.1->tensorboard~=2.5->tensorflow==2.5.3) (2.1.1)\n",
            "Collecting requests-oauthlib>=0.7.0\n",
            "  Downloading requests_oauthlib-1.3.1-py2.py3-none-any.whl (23 kB)\n",
            "Requirement already satisfied: importlib-metadata>=4.4; python_version < \"3.10\" in /usr/local/lib/python3.8/site-packages (from markdown>=2.6.8->tensorboard~=2.5->tensorflow==2.5.3) (6.0.0)\n",
            "Requirement already satisfied: cachetools<6.0,>=2.0.0 in /usr/local/lib/python3.8/site-packages (from google-auth<3,>=1.6.3->tensorboard~=2.5->tensorflow==2.5.3) (5.3.1)\n",
            "Requirement already satisfied: rsa<5,>=3.1.4 in /usr/local/lib/python3.8/site-packages (from google-auth<3,>=1.6.3->tensorboard~=2.5->tensorflow==2.5.3) (4.9)\n",
            "Requirement already satisfied: urllib3<2.0 in /usr/local/lib/python3.8/site-packages (from google-auth<3,>=1.6.3->tensorboard~=2.5->tensorflow==2.5.3) (1.25.8)\n",
            "Requirement already satisfied: pyasn1-modules>=0.2.1 in /usr/local/lib/python3.8/site-packages (from google-auth<3,>=1.6.3->tensorboard~=2.5->tensorflow==2.5.3) (0.2.7)\n",
            "Requirement already satisfied: chardet<3.1.0,>=3.0.2 in /usr/local/lib/python3.8/site-packages (from requests<3,>=2.21.0->tensorboard~=2.5->tensorflow==2.5.3) (3.0.4)\n",
            "Requirement already satisfied: idna<2.9,>=2.5 in /usr/local/lib/python3.8/site-packages (from requests<3,>=2.21.0->tensorboard~=2.5->tensorflow==2.5.3) (2.8)\n",
            "Requirement already satisfied: certifi>=2017.4.17 in /usr/local/lib/python3.8/site-packages (from requests<3,>=2.21.0->tensorboard~=2.5->tensorflow==2.5.3) (2023.5.7)\n",
            "Collecting oauthlib>=3.0.0\n",
            "  Downloading oauthlib-3.2.2-py3-none-any.whl (151 kB)\n",
            "\u001b[K     |████████████████████████████████| 151 kB 65.8 MB/s \n",
            "\u001b[?25hRequirement already satisfied: zipp>=0.5 in /usr/local/lib/python3.8/site-packages (from importlib-metadata>=4.4; python_version < \"3.10\"->markdown>=2.6.8->tensorboard~=2.5->tensorflow==2.5.3) (3.11.0)\n",
            "Requirement already satisfied: pyasn1>=0.1.3 in /usr/local/lib/python3.8/site-packages (from rsa<5,>=3.1.4->google-auth<3,>=1.6.3->tensorboard~=2.5->tensorflow==2.5.3) (0.4.8)\n",
            "Building wheels for collected packages: termcolor, wrapt\n",
            "  Building wheel for termcolor (setup.py) ... \u001b[?25l\u001b[?25hdone\n",
            "  Created wheel for termcolor: filename=termcolor-1.1.0-py3-none-any.whl size=4830 sha256=f034edf221335aa028d60d693c73351cfdf43cb1e51a14c05d18fb5d3e8e3685\n",
            "  Stored in directory: /root/.cache/pip/wheels/a0/16/9c/5473df82468f958445479c59e784896fa24f4a5fc024b0f501\n",
            "  Building wheel for wrapt (setup.py) ... \u001b[?25l\u001b[?25hdone\n",
            "  Created wheel for wrapt: filename=wrapt-1.12.1-cp38-cp38-linux_x86_64.whl size=81761 sha256=d3eebbc78ead61a956815516cdd28b7521e9660e372f55579ae7027e731ef27f\n",
            "  Stored in directory: /root/.cache/pip/wheels/5f/fd/9e/b6cf5890494cb8ef0b5eaff72e5d55a70fb56316007d6dfe73\n",
            "Successfully built termcolor wrapt\n",
            "\u001b[31mERROR: tensorboard 2.13.0 has requirement grpcio>=1.48.2, but you'll have grpcio 1.34.1 which is incompatible.\u001b[0m\n",
            "Installing collected packages: typing-extensions, six, grpcio, google-pasta, keras-nightly, protobuf, termcolor, absl-py, werkzeug, oauthlib, requests-oauthlib, google-auth-oauthlib, tensorboard-data-server, wheel, markdown, numpy, tensorboard, tensorflow-estimator, keras-preprocessing, h5py, wrapt, astunparse, flatbuffers, gast, opt-einsum, tensorflow\n",
            "  Attempting uninstall: typing-extensions\n",
            "    Found existing installation: typing-extensions 4.6.3\n",
            "    Uninstalling typing-extensions-4.6.3:\n",
            "      Successfully uninstalled typing-extensions-4.6.3\n",
            "  Attempting uninstall: six\n",
            "    Found existing installation: six 1.14.0\n",
            "    Uninstalling six-1.14.0:\n",
            "      Successfully uninstalled six-1.14.0\n",
            "  Attempting uninstall: wheel\n",
            "    Found existing installation: wheel 0.34.2\n",
            "    Uninstalling wheel-0.34.2:\n",
            "      Successfully uninstalled wheel-0.34.2\n",
            "  Attempting uninstall: numpy\n",
            "    Found existing installation: numpy 1.22.3\n",
            "    Uninstalling numpy-1.22.3:\n",
            "      Successfully uninstalled numpy-1.22.3\n",
            "Successfully installed absl-py-0.15.0 astunparse-1.6.3 flatbuffers-1.12 gast-0.4.0 google-auth-oauthlib-1.0.0 google-pasta-0.2.0 grpcio-1.34.1 h5py-3.1.0 keras-nightly-2.5.0.dev2021032900 keras-preprocessing-1.1.2 markdown-3.4.3 numpy-1.19.5 oauthlib-3.2.2 opt-einsum-3.3.0 protobuf-4.23.4 requests-oauthlib-1.3.1 six-1.15.0 tensorboard-2.13.0 tensorboard-data-server-0.7.1 tensorflow-2.5.3 tensorflow-estimator-2.5.0 termcolor-1.1.0 typing-extensions-3.7.4.3 werkzeug-2.3.6 wheel-0.40.0 wrapt-1.12.1\n"
          ]
        },
        {
          "output_type": "display_data",
          "data": {
            "application/vnd.colab-display-data+json": {
              "pip_warning": {
                "packages": [
                  "numpy",
                  "six",
                  "typing_extensions"
                ]
              }
            }
          },
          "metadata": {}
        },
        {
          "output_type": "stream",
          "name": "stdout",
          "text": [
            "Collecting keras==2.4.3\n",
            "  Downloading Keras-2.4.3-py2.py3-none-any.whl (36 kB)\n",
            "Requirement already satisfied: numpy>=1.9.1 in /usr/local/lib/python3.8/site-packages (from keras==2.4.3) (1.19.5)\n",
            "Collecting pyyaml\n",
            "  Downloading PyYAML-6.0-cp38-cp38-manylinux_2_5_x86_64.manylinux1_x86_64.manylinux_2_12_x86_64.manylinux2010_x86_64.whl (701 kB)\n",
            "\u001b[K     |████████████████████████████████| 701 kB 6.7 MB/s \n",
            "\u001b[?25hRequirement already satisfied: h5py in /usr/local/lib/python3.8/site-packages (from keras==2.4.3) (3.1.0)\n",
            "Collecting scipy>=0.14\n",
            "  Downloading scipy-1.10.1-cp38-cp38-manylinux_2_17_x86_64.manylinux2014_x86_64.whl (34.5 MB)\n",
            "\u001b[K     |████████████████████████████████| 34.5 MB 1.2 MB/s \n",
            "\u001b[?25hInstalling collected packages: pyyaml, scipy, keras\n",
            "Successfully installed keras-2.4.3 pyyaml-6.0 scipy-1.10.1\n",
            "Requirement already satisfied: numpy==1.19.5 in /usr/local/lib/python3.8/site-packages (1.19.5)\n",
            "Collecting pillow==8.2.0\n",
            "  Downloading Pillow-8.2.0-cp38-cp38-manylinux1_x86_64.whl (3.0 MB)\n",
            "\u001b[K     |████████████████████████████████| 3.0 MB 3.9 MB/s \n",
            "\u001b[?25hInstalling collected packages: pillow\n",
            "Successfully installed pillow-8.2.0\n",
            "Collecting PyQt5==5.15.5\n",
            "  Downloading PyQt5-5.15.5-cp36-abi3-manylinux1_x86_64.whl (8.3 MB)\n",
            "\u001b[K     |████████████████████████████████| 8.3 MB 4.1 MB/s \n",
            "\u001b[?25hRequirement already satisfied: PyQt5-sip<13,>=12.8 in /usr/local/lib/python3.8/site-packages (from PyQt5==5.15.5) (12.11.0)\n",
            "Collecting PyQt5-Qt5>=5.15.2\n",
            "  Downloading PyQt5_Qt5-5.15.2-py3-none-manylinux2014_x86_64.whl (59.9 MB)\n",
            "\u001b[K     |████████████████████████████████| 59.9 MB 87 kB/s \n",
            "\u001b[?25hInstalling collected packages: PyQt5-Qt5, PyQt5\n",
            "Successfully installed PyQt5-5.15.5 PyQt5-Qt5-5.15.2\n",
            "Collecting pixellib==0.7.1\n",
            "  Downloading pixellib-0.7.1-py3-none-any.whl (430 kB)\n",
            "\u001b[K     |████████████████████████████████| 430 kB 4.4 MB/s \n",
            "\u001b[?25hCollecting Cython\n",
            "  Downloading Cython-0.29.36-py2.py3-none-any.whl (988 kB)\n",
            "\u001b[K     |████████████████████████████████| 988 kB 71.7 MB/s \n",
            "\u001b[?25hCollecting hydra-core\n",
            "  Downloading hydra_core-1.3.2-py3-none-any.whl (154 kB)\n",
            "\u001b[K     |████████████████████████████████| 154 kB 50.5 MB/s \n",
            "\u001b[?25hCollecting iopath\n",
            "  Downloading iopath-0.1.10.tar.gz (42 kB)\n",
            "\u001b[K     |████████████████████████████████| 42 kB 1.1 MB/s \n",
            "\u001b[?25hCollecting dataclasses\n",
            "  Downloading dataclasses-0.6-py3-none-any.whl (14 kB)\n",
            "Collecting labelme2coco\n",
            "  Downloading labelme2coco-0.2.4-py3-none-any.whl (19 kB)\n",
            "Collecting imantics\n",
            "  Downloading imantics-0.1.12.tar.gz (13 kB)\n",
            "Collecting future\n",
            "  Downloading future-0.18.3.tar.gz (840 kB)\n",
            "\u001b[K     |████████████████████████████████| 840 kB 38.4 MB/s \n",
            "\u001b[?25hRequirement already satisfied: tqdm in /usr/local/lib/python3.8/site-packages (from pixellib==0.7.1) (4.42.1)\n",
            "Collecting omegaconf\n",
            "  Downloading omegaconf-2.3.0-py3-none-any.whl (79 kB)\n",
            "\u001b[K     |████████████████████████████████| 79 kB 7.9 MB/s \n",
            "\u001b[?25hCollecting cloudpickle\n",
            "  Downloading cloudpickle-2.2.1-py3-none-any.whl (25 kB)\n",
            "Requirement already satisfied: pillow in /usr/local/lib/python3.8/site-packages (from pixellib==0.7.1) (8.2.0)\n",
            "Requirement already satisfied: opencv-python in /usr/local/lib/python3.8/site-packages (from pixellib==0.7.1) (4.8.0.74)\n",
            "Requirement already satisfied: termcolor in /usr/local/lib/python3.8/site-packages (from pixellib==0.7.1) (1.1.0)\n",
            "Collecting scikit-image\n",
            "  Downloading scikit_image-0.21.0-cp38-cp38-manylinux_2_17_x86_64.manylinux2014_x86_64.whl (13.9 MB)\n",
            "\u001b[K     |████████████████████████████████| 13.9 MB 69.9 MB/s \n",
            "\u001b[?25hCollecting tabulate\n",
            "  Downloading tabulate-0.9.0-py3-none-any.whl (35 kB)\n",
            "Collecting matplotlib\n",
            "  Downloading matplotlib-3.7.2-cp38-cp38-manylinux_2_12_x86_64.manylinux2010_x86_64.whl (9.2 MB)\n",
            "\u001b[K     |████████████████████████████████| 9.2 MB 69.9 MB/s \n",
            "\u001b[?25hCollecting pydot\n",
            "  Downloading pydot-1.4.2-py2.py3-none-any.whl (21 kB)\n",
            "Collecting yacs\n",
            "  Downloading yacs-0.1.8-py3-none-any.whl (14 kB)\n",
            "Collecting black\n",
            "  Downloading black-23.3.0-cp38-cp38-manylinux_2_17_x86_64.manylinux2014_x86_64.whl (1.6 MB)\n",
            "\u001b[K     |████████████████████████████████| 1.6 MB 27.8 MB/s \n",
            "\u001b[?25hRequirement already satisfied: pyQt5 in /usr/local/lib/python3.8/site-packages (from pixellib==0.7.1) (5.15.5)\n",
            "Collecting fvcore\n",
            "  Downloading fvcore-0.1.5.post20221221.tar.gz (50 kB)\n",
            "\u001b[K     |████████████████████████████████| 50 kB 7.0 MB/s \n",
            "\u001b[?25hCollecting imgaug\n",
            "  Downloading imgaug-0.4.0-py2.py3-none-any.whl (948 kB)\n",
            "\u001b[K     |████████████████████████████████| 948 kB 59.1 MB/s \n",
            "\u001b[?25hRequirement already satisfied: importlib-resources; python_version < \"3.9\" in /usr/local/lib/python3.8/site-packages (from hydra-core->pixellib==0.7.1) (5.2.0)\n",
            "Requirement already satisfied: packaging in /usr/local/lib/python3.8/site-packages (from hydra-core->pixellib==0.7.1) (23.0)\n",
            "Collecting antlr4-python3-runtime==4.9.*\n",
            "  Downloading antlr4-python3-runtime-4.9.3.tar.gz (117 kB)\n",
            "\u001b[K     |████████████████████████████████| 117 kB 61.6 MB/s \n",
            "\u001b[?25hRequirement already satisfied: typing_extensions in /usr/local/lib/python3.8/site-packages (from iopath->pixellib==0.7.1) (3.7.4.3)\n",
            "Collecting portalocker\n",
            "  Downloading portalocker-2.7.0-py2.py3-none-any.whl (15 kB)\n",
            "Collecting sahi>=0.8.19\n",
            "  Downloading sahi-0.11.14-py3-none-any.whl (104 kB)\n",
            "\u001b[K     |████████████████████████████████| 104 kB 66.5 MB/s \n",
            "\u001b[?25hRequirement already satisfied: jsonschema>=2.6.0 in /usr/local/lib/python3.8/site-packages (from labelme2coco->pixellib==0.7.1) (4.17.3)\n",
            "Requirement already satisfied: numpy in /usr/local/lib/python3.8/site-packages (from imantics->pixellib==0.7.1) (1.19.5)\n",
            "Requirement already satisfied: lxml in /usr/local/lib/python3.8/site-packages (from imantics->pixellib==0.7.1) (4.9.1)\n",
            "Collecting xmljson\n",
            "  Downloading xmljson-0.2.1-py2.py3-none-any.whl (10 kB)\n",
            "Requirement already satisfied: PyYAML>=5.1.0 in /usr/local/lib/python3.8/site-packages (from omegaconf->pixellib==0.7.1) (6.0)\n",
            "Collecting lazy_loader>=0.2\n",
            "  Downloading lazy_loader-0.3-py3-none-any.whl (9.1 kB)\n",
            "Collecting tifffile>=2022.8.12\n",
            "  Downloading tifffile-2023.7.4-py3-none-any.whl (220 kB)\n",
            "\u001b[K     |████████████████████████████████| 220 kB 18.6 MB/s \n",
            "\u001b[?25hCollecting networkx>=2.8\n",
            "  Downloading networkx-3.1-py3-none-any.whl (2.1 MB)\n",
            "\u001b[K     |████████████████████████████████| 2.1 MB 32.3 MB/s \n",
            "\u001b[?25hRequirement already satisfied: scipy>=1.8 in /usr/local/lib/python3.8/site-packages (from scikit-image->pixellib==0.7.1) (1.10.1)\n",
            "Collecting imageio>=2.27\n",
            "  Downloading imageio-2.31.1-py3-none-any.whl (313 kB)\n",
            "\u001b[K     |████████████████████████████████| 313 kB 55.5 MB/s \n",
            "\u001b[?25hCollecting PyWavelets>=1.1.1\n",
            "  Downloading PyWavelets-1.4.1-cp38-cp38-manylinux_2_17_x86_64.manylinux2014_x86_64.whl (6.9 MB)\n",
            "\u001b[K     |████████████████████████████████| 6.9 MB 52.9 MB/s \n",
            "\u001b[?25hRequirement already satisfied: python-dateutil>=2.7 in /usr/local/lib/python3.8/site-packages (from matplotlib->pixellib==0.7.1) (2.8.2)\n",
            "Collecting fonttools>=4.22.0\n",
            "  Downloading fonttools-4.40.0-cp38-cp38-manylinux_2_17_x86_64.manylinux2014_x86_64.whl (4.4 MB)\n",
            "\u001b[K     |████████████████████████████████| 4.4 MB 62.1 MB/s \n",
            "\u001b[?25hCollecting pyparsing<3.1,>=2.3.1\n",
            "  Downloading pyparsing-3.0.9-py3-none-any.whl (98 kB)\n",
            "\u001b[K     |████████████████████████████████| 98 kB 7.3 MB/s \n",
            "\u001b[?25hCollecting kiwisolver>=1.0.1\n",
            "  Downloading kiwisolver-1.4.4-cp38-cp38-manylinux_2_5_x86_64.manylinux1_x86_64.whl (1.2 MB)\n",
            "\u001b[K     |████████████████████████████████| 1.2 MB 26.4 MB/s \n",
            "\u001b[?25hCollecting cycler>=0.10\n",
            "  Downloading cycler-0.11.0-py3-none-any.whl (6.4 kB)\n",
            "Collecting contourpy>=1.0.1\n",
            "  Downloading contourpy-1.1.0-cp38-cp38-manylinux_2_17_x86_64.manylinux2014_x86_64.whl (300 kB)\n",
            "\u001b[K     |████████████████████████████████| 300 kB 54.2 MB/s \n",
            "\u001b[?25hCollecting pathspec>=0.9.0\n",
            "  Downloading pathspec-0.11.1-py3-none-any.whl (29 kB)\n",
            "Requirement already satisfied: platformdirs>=2 in /usr/local/lib/python3.8/site-packages (from black->pixellib==0.7.1) (2.5.2)\n",
            "Collecting click>=8.0.0\n",
            "  Downloading click-8.1.4-py3-none-any.whl (98 kB)\n",
            "\u001b[K     |████████████████████████████████| 98 kB 6.1 MB/s \n",
            "\u001b[?25hCollecting tomli>=1.1.0; python_version < \"3.11\"\n",
            "  Downloading tomli-2.0.1-py3-none-any.whl (12 kB)\n",
            "Collecting mypy-extensions>=0.4.3\n",
            "  Downloading mypy_extensions-1.0.0-py3-none-any.whl (4.7 kB)\n",
            "Requirement already satisfied: PyQt5-Qt5>=5.15.2 in /usr/local/lib/python3.8/site-packages (from pyQt5->pixellib==0.7.1) (5.15.2)\n",
            "Requirement already satisfied: PyQt5-sip<13,>=12.8 in /usr/local/lib/python3.8/site-packages (from pyQt5->pixellib==0.7.1) (12.11.0)\n",
            "Collecting Shapely\n",
            "  Downloading shapely-2.0.1-cp38-cp38-manylinux_2_17_x86_64.manylinux2014_x86_64.whl (2.3 MB)\n",
            "\u001b[K     |████████████████████████████████| 2.3 MB 62.4 MB/s \n",
            "\u001b[?25hRequirement already satisfied: six in /usr/local/lib/python3.8/site-packages (from imgaug->pixellib==0.7.1) (1.15.0)\n",
            "Requirement already satisfied: zipp>=3.1.0; python_version < \"3.10\" in /usr/local/lib/python3.8/site-packages (from importlib-resources; python_version < \"3.9\"->hydra-core->pixellib==0.7.1) (3.11.0)\n",
            "Collecting pybboxes==0.1.6\n",
            "  Downloading pybboxes-0.1.6-py3-none-any.whl (24 kB)\n",
            "Collecting terminaltables\n",
            "  Downloading terminaltables-3.1.10-py2.py3-none-any.whl (15 kB)\n",
            "Requirement already satisfied: requests in /usr/local/lib/python3.8/site-packages (from sahi>=0.8.19->labelme2coco->pixellib==0.7.1) (2.22.0)\n",
            "Collecting fire\n",
            "  Downloading fire-0.5.0.tar.gz (88 kB)\n",
            "\u001b[K     |████████████████████████████████| 88 kB 7.4 MB/s \n",
            "\u001b[?25hRequirement already satisfied: pyrsistent!=0.17.0,!=0.17.1,!=0.17.2,>=0.14.0 in /usr/local/lib/python3.8/site-packages (from jsonschema>=2.6.0->labelme2coco->pixellib==0.7.1) (0.18.0)\n",
            "Requirement already satisfied: pkgutil-resolve-name>=1.3.10; python_version < \"3.9\" in /usr/local/lib/python3.8/site-packages (from jsonschema>=2.6.0->labelme2coco->pixellib==0.7.1) (1.3.10)\n",
            "Requirement already satisfied: attrs>=17.4.0 in /usr/local/lib/python3.8/site-packages (from jsonschema>=2.6.0->labelme2coco->pixellib==0.7.1) (22.1.0)\n",
            "Requirement already satisfied: chardet<3.1.0,>=3.0.2 in /usr/local/lib/python3.8/site-packages (from requests->sahi>=0.8.19->labelme2coco->pixellib==0.7.1) (3.0.4)\n",
            "Requirement already satisfied: certifi>=2017.4.17 in /usr/local/lib/python3.8/site-packages (from requests->sahi>=0.8.19->labelme2coco->pixellib==0.7.1) (2023.5.7)\n",
            "Requirement already satisfied: urllib3!=1.25.0,!=1.25.1,<1.26,>=1.21.1 in /usr/local/lib/python3.8/site-packages (from requests->sahi>=0.8.19->labelme2coco->pixellib==0.7.1) (1.25.8)\n",
            "Requirement already satisfied: idna<2.9,>=2.5 in /usr/local/lib/python3.8/site-packages (from requests->sahi>=0.8.19->labelme2coco->pixellib==0.7.1) (2.8)\n",
            "Building wheels for collected packages: iopath, imantics, future, fvcore, antlr4-python3-runtime, fire\n",
            "  Building wheel for iopath (setup.py) ... \u001b[?25l\u001b[?25hdone\n",
            "  Created wheel for iopath: filename=iopath-0.1.10-py3-none-any.whl size=31544 sha256=46a51e523c762c2703452612bc2fef7b2d648068f78cffeca6f3a086b3a446da\n",
            "  Stored in directory: /root/.cache/pip/wheels/89/3e/24/0f349c0b2eeb6965903035f3b00dbb5c9bea437b4a2f18d82c\n",
            "  Building wheel for imantics (setup.py) ... \u001b[?25l\u001b[?25hdone\n",
            "  Created wheel for imantics: filename=imantics-0.1.12-py3-none-any.whl size=16033 sha256=61e9460a03b01ddb630d2e01aa5993662a390b3398703cb3cbaf90795bf535dd\n",
            "  Stored in directory: /root/.cache/pip/wheels/3d/a5/ec/e0fe6d18df133bf33ddc4a4148646677f45a24be2732b4ec86\n",
            "  Building wheel for future (setup.py) ... \u001b[?25l\u001b[?25hdone\n",
            "  Created wheel for future: filename=future-0.18.3-py3-none-any.whl size=492024 sha256=842581e51bea7e7eca9993055d8ec8788b136338a073e96111a329c4cf68c895\n",
            "  Stored in directory: /root/.cache/pip/wheels/a0/0b/ee/e6994fadb42c1354dcccb139b0bf2795271bddfe6253ccdf11\n",
            "  Building wheel for fvcore (setup.py) ... \u001b[?25l\u001b[?25hdone\n",
            "  Created wheel for fvcore: filename=fvcore-0.1.5.post20221221-py3-none-any.whl size=61431 sha256=c8f5e660426fb0b3f224d0a4b5d74bb6c8e3d9f8fc2f0c6612062cb8878418d8\n",
            "  Stored in directory: /root/.cache/pip/wheels/b8/79/07/c0e9367f5b5ea325e246bd73651e8af175fabbef943043b1cc\n",
            "  Building wheel for antlr4-python3-runtime (setup.py) ... \u001b[?25l\u001b[?25hdone\n",
            "  Created wheel for antlr4-python3-runtime: filename=antlr4_python3_runtime-4.9.3-py3-none-any.whl size=144574 sha256=5a41c55286d04fa6bc0f7293273a4401b8285f337ffa61c24c2a5d1d9858519d\n",
            "  Stored in directory: /root/.cache/pip/wheels/b1/a3/c2/6df046c09459b73cc9bb6c4401b0be6c47048baf9a1617c485\n",
            "  Building wheel for fire (setup.py) ... \u001b[?25l\u001b[?25hdone\n",
            "  Created wheel for fire: filename=fire-0.5.0-py2.py3-none-any.whl size=116934 sha256=34a7d287ee60edd9255e94eba36b269f8f2f0267ff3cddc8f9e990f0a4741140\n",
            "  Stored in directory: /root/.cache/pip/wheels/5b/eb/43/7295e71293b218ddfd627f935229bf54af9018add7fbb5aac6\n",
            "Successfully built iopath imantics future fvcore antlr4-python3-runtime fire\n",
            "\u001b[31mERROR: sahi 0.11.14 has requirement tqdm>=4.48.2, but you'll have tqdm 4.42.1 which is incompatible.\u001b[0m\n",
            "\u001b[31mERROR: imageio 2.31.1 has requirement pillow>=8.3.2, but you'll have pillow 8.2.0 which is incompatible.\u001b[0m\n",
            "\u001b[31mERROR: scikit-image 0.21.0 has requirement numpy>=1.21.1, but you'll have numpy 1.19.5 which is incompatible.\u001b[0m\n",
            "\u001b[31mERROR: scikit-image 0.21.0 has requirement pillow>=9.0.1, but you'll have pillow 8.2.0 which is incompatible.\u001b[0m\n",
            "\u001b[31mERROR: matplotlib 3.7.2 has requirement numpy>=1.20, but you'll have numpy 1.19.5 which is incompatible.\u001b[0m\n",
            "\u001b[31mERROR: black 23.3.0 has requirement typing-extensions>=3.10.0.0; python_version < \"3.10\", but you'll have typing-extensions 3.7.4.3 which is incompatible.\u001b[0m\n",
            "Installing collected packages: Cython, antlr4-python3-runtime, omegaconf, hydra-core, portalocker, iopath, dataclasses, pybboxes, terminaltables, click, fire, Shapely, sahi, labelme2coco, xmljson, imantics, future, cloudpickle, lazy-loader, tifffile, networkx, imageio, PyWavelets, scikit-image, tabulate, fonttools, pyparsing, kiwisolver, cycler, contourpy, matplotlib, pydot, yacs, pathspec, tomli, mypy-extensions, black, fvcore, imgaug, pixellib\n",
            "Successfully installed Cython-0.29.36 PyWavelets-1.4.1 Shapely-2.0.1 antlr4-python3-runtime-4.9.3 black-23.3.0 click-8.1.4 cloudpickle-2.2.1 contourpy-1.1.0 cycler-0.11.0 dataclasses-0.6 fire-0.5.0 fonttools-4.40.0 future-0.18.3 fvcore-0.1.5.post20221221 hydra-core-1.3.2 imageio-2.31.1 imantics-0.1.12 imgaug-0.4.0 iopath-0.1.10 kiwisolver-1.4.4 labelme2coco-0.2.4 lazy-loader-0.3 matplotlib-3.7.2 mypy-extensions-1.0.0 networkx-3.1 omegaconf-2.3.0 pathspec-0.11.1 pixellib-0.7.1 portalocker-2.7.0 pybboxes-0.1.6 pydot-1.4.2 pyparsing-3.0.9 sahi-0.11.14 scikit-image-0.21.0 tabulate-0.9.0 terminaltables-3.1.10 tifffile-2023.7.4 tomli-2.0.1 xmljson-0.2.1 yacs-0.1.8\n"
          ]
        },
        {
          "output_type": "display_data",
          "data": {
            "application/vnd.colab-display-data+json": {
              "pip_warning": {
                "packages": [
                  "dataclasses",
                  "pydevd_plugins"
                ]
              }
            }
          },
          "metadata": {}
        },
        {
          "output_type": "stream",
          "name": "stdout",
          "text": [
            "Collecting scikit-image==0.18.0\n",
            "  Downloading scikit_image-0.18.0-cp38-cp38-manylinux1_x86_64.whl (30.2 MB)\n",
            "\u001b[K     |████████████████████████████████| 30.2 MB 1.5 MB/s \n",
            "\u001b[?25hRequirement already satisfied: networkx>=2.0 in /usr/local/lib/python3.8/site-packages (from scikit-image==0.18.0) (3.1)\n",
            "Requirement already satisfied: numpy>=1.16.5 in /usr/local/lib/python3.8/site-packages (from scikit-image==0.18.0) (1.19.5)\n",
            "Requirement already satisfied: pillow!=7.1.0,!=7.1.1,>=4.3.0 in /usr/local/lib/python3.8/site-packages (from scikit-image==0.18.0) (8.2.0)\n",
            "Requirement already satisfied: PyWavelets>=1.1.1 in /usr/local/lib/python3.8/site-packages (from scikit-image==0.18.0) (1.4.1)\n",
            "Requirement already satisfied: imageio>=2.3.0 in /usr/local/lib/python3.8/site-packages (from scikit-image==0.18.0) (2.31.1)\n",
            "Requirement already satisfied: tifffile>=2019.7.26 in /usr/local/lib/python3.8/site-packages (from scikit-image==0.18.0) (2023.7.4)\n",
            "Requirement already satisfied: matplotlib!=3.0.0,>=2.0.0 in /usr/local/lib/python3.8/site-packages (from scikit-image==0.18.0) (3.7.2)\n",
            "Requirement already satisfied: scipy>=1.0.1 in /usr/local/lib/python3.8/site-packages (from scikit-image==0.18.0) (1.10.1)\n",
            "Requirement already satisfied: python-dateutil>=2.7 in /usr/local/lib/python3.8/site-packages (from matplotlib!=3.0.0,>=2.0.0->scikit-image==0.18.0) (2.8.2)\n",
            "Requirement already satisfied: pyparsing<3.1,>=2.3.1 in /usr/local/lib/python3.8/site-packages (from matplotlib!=3.0.0,>=2.0.0->scikit-image==0.18.0) (3.0.9)\n",
            "Requirement already satisfied: kiwisolver>=1.0.1 in /usr/local/lib/python3.8/site-packages (from matplotlib!=3.0.0,>=2.0.0->scikit-image==0.18.0) (1.4.4)\n",
            "Requirement already satisfied: fonttools>=4.22.0 in /usr/local/lib/python3.8/site-packages (from matplotlib!=3.0.0,>=2.0.0->scikit-image==0.18.0) (4.40.0)\n",
            "Requirement already satisfied: contourpy>=1.0.1 in /usr/local/lib/python3.8/site-packages (from matplotlib!=3.0.0,>=2.0.0->scikit-image==0.18.0) (1.1.0)\n",
            "Requirement already satisfied: packaging>=20.0 in /usr/local/lib/python3.8/site-packages (from matplotlib!=3.0.0,>=2.0.0->scikit-image==0.18.0) (23.0)\n",
            "Requirement already satisfied: cycler>=0.10 in /usr/local/lib/python3.8/site-packages (from matplotlib!=3.0.0,>=2.0.0->scikit-image==0.18.0) (0.11.0)\n",
            "Requirement already satisfied: importlib-resources>=3.2.0; python_version < \"3.10\" in /usr/local/lib/python3.8/site-packages (from matplotlib!=3.0.0,>=2.0.0->scikit-image==0.18.0) (5.2.0)\n",
            "Requirement already satisfied: six>=1.5 in /usr/local/lib/python3.8/site-packages (from python-dateutil>=2.7->matplotlib!=3.0.0,>=2.0.0->scikit-image==0.18.0) (1.15.0)\n",
            "Requirement already satisfied: zipp>=3.1.0; python_version < \"3.10\" in /usr/local/lib/python3.8/site-packages (from importlib-resources>=3.2.0; python_version < \"3.10\"->matplotlib!=3.0.0,>=2.0.0->scikit-image==0.18.0) (3.11.0)\n",
            "Installing collected packages: scikit-image\n",
            "  Attempting uninstall: scikit-image\n",
            "    Found existing installation: scikit-image 0.21.0\n",
            "    Uninstalling scikit-image-0.21.0:\n",
            "      Successfully uninstalled scikit-image-0.21.0\n",
            "Successfully installed scikit-image-0.18.0\n"
          ]
        }
      ]
    },
    {
      "cell_type": "code",
      "source": [
        "### Load Essential Packages ###\n",
        "import pixellib\n",
        "from pixellib.instance import custom_segmentation\n",
        "\n",
        "### Custom Segmentation of Left PMAT, Right PMAT, and SAT ###\n",
        "segment_image = custom_segmentation()\n",
        "segment_image.inferConfig(num_classes = 3, class_names= [\"BG\", \"PMR\", \"PML\", \"SAT\"], detection_threshold = 0.9, network_backbone = \"resnet50\")\n",
        "segment_image.load_model(\"/content/Automated_Segmentation_PTM-IMAT-SAT/COCO/95_MSK_3_Class.h5\")"
      ],
      "metadata": {
        "colab": {
          "base_uri": "https://localhost:8080/"
        },
        "id": "Sf80nyCxhm7L",
        "outputId": "603f43e7-3dbe-4ffd-8a74-876b81458329"
      },
      "execution_count": 1,
      "outputs": [
        {
          "output_type": "stream",
          "name": "stderr",
          "text": [
            "2023-07-07 22:50:43.095449: I tensorflow/stream_executor/platform/default/dso_loader.cc:53] Successfully opened dynamic library libcudart.so.11.0\n",
            "WARNING:tensorflow:From /usr/local/lib/python3.8/site-packages/tensorflow/python/ops/array_ops.py:5043: calling gather (from tensorflow.python.ops.array_ops) with validate_indices is deprecated and will be removed in a future version.\n",
            "Instructions for updating:\n",
            "The `validate_indices` argument has no effect. Indices are always validated on CPU and never validated on GPU.\n",
            "WARNING:tensorflow:From /usr/local/lib/python3.8/site-packages/tensorflow/python/util/deprecation.py:602: calling map_fn_v2 (from tensorflow.python.ops.map_fn) with dtype is deprecated and will be removed in a future version.\n",
            "Instructions for updating:\n",
            "Use fn_output_signature instead\n",
            "2023-07-07 22:50:49.122866: W tensorflow/stream_executor/platform/default/dso_loader.cc:64] Could not load dynamic library 'libcuda.so.1'; dlerror: libcuda.so.1: cannot open shared object file: No such file or directory; LD_LIBRARY_PATH: /usr/local/lib/python3.8/site-packages/cv2/../../lib64:/usr/local/nvidia/lib:/usr/local/nvidia/lib64\n",
            "2023-07-07 22:50:49.122919: W tensorflow/stream_executor/cuda/cuda_driver.cc:326] failed call to cuInit: UNKNOWN ERROR (303)\n",
            "2023-07-07 22:50:49.122945: I tensorflow/stream_executor/cuda/cuda_diagnostics.cc:156] kernel driver does not appear to be running on this host (465f05048b75): /proc/driver/nvidia/version does not exist\n",
            "2023-07-07 22:50:50.980836: I tensorflow/core/platform/cpu_feature_guard.cc:142] This TensorFlow binary is optimized with oneAPI Deep Neural Network Library (oneDNN) to use the following CPU instructions in performance-critical operations:  AVX2 FMA\n",
            "To enable them in other operations, rebuild TensorFlow with the appropriate compiler flags.\n",
            "2023-07-07 22:50:51.280117: I tensorflow/core/platform/profile_utils/cpu_utils.cc:114] CPU Frequency: 2200140000 Hz\n"
          ]
        }
      ]
    },
    {
      "cell_type": "code",
      "source": [
        "### Load Essential Packages ###\n",
        "import numpy as np\n",
        "from PIL import Image\n",
        "import cv2\n",
        "import os\n",
        "\n",
        "### Set Directories ###\n",
        "inputdir = '/content/Automated_Segmentation_PTM-IMAT-SAT/Selected/'\n",
        "outdir = '/content/Automated_Segmentation_PTM-IMAT-SAT/Output/'\n",
        "outdir1 = '/content/Automated_Segmentation_PTM-IMAT-SAT/Mask_Infer/PMR_Mask_'\n",
        "outdir2 = '/content/Automated_Segmentation_PTM-IMAT-SAT/Mask_Infer/PMR_'\n",
        "outdir3 = '/content/Automated_Segmentation_PTM-IMAT-SAT/Mask_Infer/PML_Mask_'\n",
        "outdir4 = '/content/Automated_Segmentation_PTM-IMAT-SAT/Mask_Infer/PML_'\n",
        "outdir5 = '/content/Automated_Segmentation_PTM-IMAT-SAT/Mask_Infer/SAT_Mask_'\n",
        "outdir6 = '/content/Automated_Segmentation_PTM-IMAT-SAT/Mask_Infer/SAT_'\n",
        "\n",
        "test_list = [ f for f in  os.listdir(inputdir)]\n",
        "\n",
        "### Inference of Left PMAT, Right PMAT, and SAT Images Based on Mask R-CNN Model ###\n",
        "for f in sorted (test_list):\n",
        "    if f.endswith('.png'):\n",
        "        segmask, output = segment_image.segmentImage(inputdir + f, extract_segmented_objects = False, mask_points_values = True, show_bboxes=False)\n",
        "        class_list = segmask['class_ids'].tolist()\n",
        "        class_str = ''.join(str(x) for x in class_list)\n",
        "        try:\n",
        "            if class_str == '321':\n",
        "                c,b,a = [ [individualArray] for individualArray in segmask['masks'] ]\n",
        "            elif class_str == '312':\n",
        "                c,a,b = [ [individualArray] for individualArray in segmask['masks'] ]\n",
        "            elif class_str == '231':\n",
        "                b,c,a = [ [individualArray] for individualArray in segmask['masks'] ]\n",
        "            elif class_str == '213':\n",
        "                b,a,c = [ [individualArray] for individualArray in segmask['masks'] ]\n",
        "            elif class_str == '132':\n",
        "                a,c,b = [ [individualArray] for individualArray in segmask['masks'] ]\n",
        "            else:\n",
        "                a,b,c = [ [individualArray] for individualArray in segmask['masks'] ]\n",
        "        except:\n",
        "            pass\n",
        "\n",
        "        cv2.imwrite(outdir + f, output)\n",
        "        a1 = np.array(a)\n",
        "        b1 = np.array(b)\n",
        "        c1 = np.array(c)\n",
        "        for i in a1.tolist():\n",
        "            mask1 = np.asarray(Image.open(inputdir + f))\n",
        "            mask11 =  mask1[:,:,:3]\n",
        "            img1 = cv2.fillPoly(mask1, np.array(i), color=(0, 0, 0))\n",
        "            maskB = Image.fromarray(mask11)\n",
        "        for i in a1.tolist():\n",
        "            mask2 = np.asarray(Image.open(inputdir + f))\n",
        "            mask22 =  mask2[:,:,:3]\n",
        "            img2 = cv2.fillPoly(mask2, np.array(i), color=(255, 255, 255))\n",
        "            maskW = Image.fromarray(mask22)\n",
        "            ROI_PMR_Mask = np.subtract(maskW, maskB)\n",
        "            ROI_PMR = np.subtract(np.asarray(Image.open(inputdir + f))[:,:,:3], maskB)\n",
        "            cv2.imwrite(outdir1 + f, ROI_PMR_Mask)\n",
        "            cv2.imwrite(outdir2 + f, ROI_PMR)\n",
        "        for i in b1.tolist():\n",
        "            mask3 = np.asarray(Image.open(inputdir + f))\n",
        "            mask33 =  mask3[:,:,:3]\n",
        "            img3 = cv2.fillPoly(mask3, np.array(i), color=(0, 0, 0))\n",
        "            maskB2 = Image.fromarray(mask33)\n",
        "        for i in b1.tolist():\n",
        "            mask4 = np.asarray(Image.open(inputdir + f))\n",
        "            mask44 =  mask4[:,:,:3]\n",
        "            img4 = cv2.fillPoly(mask4, np.array(i), color=(255, 255, 255))\n",
        "            maskW2 = Image.fromarray(mask44)\n",
        "            ROI_SAT_Mask = np.subtract(maskW2, maskB2)\n",
        "            ROI_SAT = np.subtract(np.asarray(Image.open(inputdir + f))[:,:,:3], maskB2)\n",
        "            cv2.imwrite(outdir3 + f, ROI_SAT_Mask)\n",
        "            cv2.imwrite(outdir4 + f, ROI_SAT)\n",
        "        for i in c1.tolist():\n",
        "            mask5 = np.asarray(Image.open(inputdir + f))\n",
        "            mask55 =  mask5[:,:,:3]\n",
        "            img5 = cv2.fillPoly(mask5, np.array(i), color=(0, 0, 0))\n",
        "            maskB3 = Image.fromarray(mask55)\n",
        "        for i in c1.tolist():\n",
        "            mask6 = np.asarray(Image.open(inputdir + f))\n",
        "            mask66 =  mask6[:,:,:3]\n",
        "            img6 = cv2.fillPoly(mask6, np.array(i), color=(255, 255, 255))\n",
        "            maskW3 = Image.fromarray(mask66)\n",
        "            ROI_PML_Mask = np.subtract(maskW3, maskB3)\n",
        "            ROI_PML = np.subtract(np.asarray(Image.open(inputdir + f))[:,:,:3], maskB3)\n",
        "            cv2.imwrite(outdir5 + f, ROI_PML_Mask)\n",
        "            cv2.imwrite(outdir6 + f, ROI_PML)"
      ],
      "metadata": {
        "colab": {
          "base_uri": "https://localhost:8080/"
        },
        "id": "p6dpARt-ivU8",
        "outputId": "28f2beda-6b03-40bd-a465-99e50edde55f"
      },
      "execution_count": 2,
      "outputs": [
        {
          "output_type": "stream",
          "name": "stderr",
          "text": [
            "/usr/local/lib/python3.8/site-packages/tensorflow/python/keras/engine/training.py:2424: UserWarning: `Model.state_updates` will be removed in a future version. This property should not be used in TensorFlow 2.0, as `updates` are applied automatically.\n",
            "  warnings.warn('`Model.state_updates` will be removed in a future version. '\n",
            "2023-07-07 22:51:19.972516: W tensorflow/core/grappler/costs/op_level_cost_estimator.cc:690] Error in PredictCost() for the op: op: \"CropAndResize\" attr { key: \"T\" value { type: DT_FLOAT } } attr { key: \"extrapolation_value\" value { f: 0 } } attr { key: \"method\" value { s: \"bilinear\" } } inputs { dtype: DT_FLOAT shape { dim { size: -48 } dim { size: -206 } dim { size: -207 } dim { size: 256 } } } inputs { dtype: DT_FLOAT shape { dim { size: -19 } dim { size: 4 } } } inputs { dtype: DT_INT32 shape { dim { size: -19 } } } inputs { dtype: DT_INT32 shape { dim { size: 2 } } value { dtype: DT_INT32 tensor_shape { dim { size: 2 } } tensor_content: \"\\007\\000\\000\\000\\007\\000\\000\\000\" } } device { type: \"CPU\" vendor: \"GenuineIntel\" model: \"111\" frequency: 2200 num_cores: 2 environment { key: \"cpu_instruction_set\" value: \"AVX SSE, SSE2, SSE3, SSSE3, SSE4.1, SSE4.2\" } environment { key: \"eigen\" value: \"3.4.99\" } l1_cache_size: 32768 l2_cache_size: 262144 l3_cache_size: 57671680 memory_size: 268435456 } outputs { dtype: DT_FLOAT shape { dim { size: -19 } dim { size: 7 } dim { size: 7 } dim { size: 256 } } }\n",
            "2023-07-07 22:51:19.972788: W tensorflow/core/grappler/costs/op_level_cost_estimator.cc:690] Error in PredictCost() for the op: op: \"CropAndResize\" attr { key: \"T\" value { type: DT_FLOAT } } attr { key: \"extrapolation_value\" value { f: 0 } } attr { key: \"method\" value { s: \"bilinear\" } } inputs { dtype: DT_FLOAT shape { dim { size: -48 } dim { size: -196 } dim { size: -197 } dim { size: 256 } } } inputs { dtype: DT_FLOAT shape { dim { size: -22 } dim { size: 4 } } } inputs { dtype: DT_INT32 shape { dim { size: -22 } } } inputs { dtype: DT_INT32 shape { dim { size: 2 } } value { dtype: DT_INT32 tensor_shape { dim { size: 2 } } tensor_content: \"\\007\\000\\000\\000\\007\\000\\000\\000\" } } device { type: \"CPU\" vendor: \"GenuineIntel\" model: \"111\" frequency: 2200 num_cores: 2 environment { key: \"cpu_instruction_set\" value: \"AVX SSE, SSE2, SSE3, SSSE3, SSE4.1, SSE4.2\" } environment { key: \"eigen\" value: \"3.4.99\" } l1_cache_size: 32768 l2_cache_size: 262144 l3_cache_size: 57671680 memory_size: 268435456 } outputs { dtype: DT_FLOAT shape { dim { size: -22 } dim { size: 7 } dim { size: 7 } dim { size: 256 } } }\n",
            "2023-07-07 22:51:19.972976: W tensorflow/core/grappler/costs/op_level_cost_estimator.cc:690] Error in PredictCost() for the op: op: \"CropAndResize\" attr { key: \"T\" value { type: DT_FLOAT } } attr { key: \"extrapolation_value\" value { f: 0 } } attr { key: \"method\" value { s: \"bilinear\" } } inputs { dtype: DT_FLOAT shape { dim { size: -48 } dim { size: -184 } dim { size: -185 } dim { size: 256 } } } inputs { dtype: DT_FLOAT shape { dim { size: -24 } dim { size: 4 } } } inputs { dtype: DT_INT32 shape { dim { size: -24 } } } inputs { dtype: DT_INT32 shape { dim { size: 2 } } value { dtype: DT_INT32 tensor_shape { dim { size: 2 } } tensor_content: \"\\007\\000\\000\\000\\007\\000\\000\\000\" } } device { type: \"CPU\" vendor: \"GenuineIntel\" model: \"111\" frequency: 2200 num_cores: 2 environment { key: \"cpu_instruction_set\" value: \"AVX SSE, SSE2, SSE3, SSSE3, SSE4.1, SSE4.2\" } environment { key: \"eigen\" value: \"3.4.99\" } l1_cache_size: 32768 l2_cache_size: 262144 l3_cache_size: 57671680 memory_size: 268435456 } outputs { dtype: DT_FLOAT shape { dim { size: -24 } dim { size: 7 } dim { size: 7 } dim { size: 256 } } }\n",
            "2023-07-07 22:51:19.973202: W tensorflow/core/grappler/costs/op_level_cost_estimator.cc:690] Error in PredictCost() for the op: op: \"CropAndResize\" attr { key: \"T\" value { type: DT_FLOAT } } attr { key: \"extrapolation_value\" value { f: 0 } } attr { key: \"method\" value { s: \"bilinear\" } } inputs { dtype: DT_FLOAT shape { dim { size: -48 } dim { size: -170 } dim { size: -171 } dim { size: 256 } } } inputs { dtype: DT_FLOAT shape { dim { size: -26 } dim { size: 4 } } } inputs { dtype: DT_INT32 shape { dim { size: -26 } } } inputs { dtype: DT_INT32 shape { dim { size: 2 } } value { dtype: DT_INT32 tensor_shape { dim { size: 2 } } tensor_content: \"\\007\\000\\000\\000\\007\\000\\000\\000\" } } device { type: \"CPU\" vendor: \"GenuineIntel\" model: \"111\" frequency: 2200 num_cores: 2 environment { key: \"cpu_instruction_set\" value: \"AVX SSE, SSE2, SSE3, SSSE3, SSE4.1, SSE4.2\" } environment { key: \"eigen\" value: \"3.4.99\" } l1_cache_size: 32768 l2_cache_size: 262144 l3_cache_size: 57671680 memory_size: 268435456 } outputs { dtype: DT_FLOAT shape { dim { size: -26 } dim { size: 7 } dim { size: 7 } dim { size: 256 } } }\n",
            "2023-07-07 22:51:19.981708: W tensorflow/core/grappler/costs/op_level_cost_estimator.cc:690] Error in PredictCost() for the op: op: \"CropAndResize\" attr { key: \"T\" value { type: DT_FLOAT } } attr { key: \"extrapolation_value\" value { f: 0 } } attr { key: \"method\" value { s: \"bilinear\" } } inputs { dtype: DT_FLOAT shape { dim { size: -48 } dim { size: -206 } dim { size: -207 } dim { size: 256 } } } inputs { dtype: DT_FLOAT shape { dim { size: -40 } dim { size: 4 } } } inputs { dtype: DT_INT32 shape { dim { size: -40 } } } inputs { dtype: DT_INT32 shape { dim { size: 2 } } value { dtype: DT_INT32 tensor_shape { dim { size: 2 } } tensor_content: \"\\016\\000\\000\\000\\016\\000\\000\\000\" } } device { type: \"CPU\" vendor: \"GenuineIntel\" model: \"111\" frequency: 2200 num_cores: 2 environment { key: \"cpu_instruction_set\" value: \"AVX SSE, SSE2, SSE3, SSSE3, SSE4.1, SSE4.2\" } environment { key: \"eigen\" value: \"3.4.99\" } l1_cache_size: 32768 l2_cache_size: 262144 l3_cache_size: 57671680 memory_size: 268435456 } outputs { dtype: DT_FLOAT shape { dim { size: -40 } dim { size: 14 } dim { size: 14 } dim { size: 256 } } }\n",
            "2023-07-07 22:51:19.981950: W tensorflow/core/grappler/costs/op_level_cost_estimator.cc:690] Error in PredictCost() for the op: op: \"CropAndResize\" attr { key: \"T\" value { type: DT_FLOAT } } attr { key: \"extrapolation_value\" value { f: 0 } } attr { key: \"method\" value { s: \"bilinear\" } } inputs { dtype: DT_FLOAT shape { dim { size: -48 } dim { size: -196 } dim { size: -197 } dim { size: 256 } } } inputs { dtype: DT_FLOAT shape { dim { size: -34 } dim { size: 4 } } } inputs { dtype: DT_INT32 shape { dim { size: -34 } } } inputs { dtype: DT_INT32 shape { dim { size: 2 } } value { dtype: DT_INT32 tensor_shape { dim { size: 2 } } tensor_content: \"\\016\\000\\000\\000\\016\\000\\000\\000\" } } device { type: \"CPU\" vendor: \"GenuineIntel\" model: \"111\" frequency: 2200 num_cores: 2 environment { key: \"cpu_instruction_set\" value: \"AVX SSE, SSE2, SSE3, SSSE3, SSE4.1, SSE4.2\" } environment { key: \"eigen\" value: \"3.4.99\" } l1_cache_size: 32768 l2_cache_size: 262144 l3_cache_size: 57671680 memory_size: 268435456 } outputs { dtype: DT_FLOAT shape { dim { size: -34 } dim { size: 14 } dim { size: 14 } dim { size: 256 } } }\n",
            "2023-07-07 22:51:19.982168: W tensorflow/core/grappler/costs/op_level_cost_estimator.cc:690] Error in PredictCost() for the op: op: \"CropAndResize\" attr { key: \"T\" value { type: DT_FLOAT } } attr { key: \"extrapolation_value\" value { f: 0 } } attr { key: \"method\" value { s: \"bilinear\" } } inputs { dtype: DT_FLOAT shape { dim { size: -48 } dim { size: -184 } dim { size: -185 } dim { size: 256 } } } inputs { dtype: DT_FLOAT shape { dim { size: -36 } dim { size: 4 } } } inputs { dtype: DT_INT32 shape { dim { size: -36 } } } inputs { dtype: DT_INT32 shape { dim { size: 2 } } value { dtype: DT_INT32 tensor_shape { dim { size: 2 } } tensor_content: \"\\016\\000\\000\\000\\016\\000\\000\\000\" } } device { type: \"CPU\" vendor: \"GenuineIntel\" model: \"111\" frequency: 2200 num_cores: 2 environment { key: \"cpu_instruction_set\" value: \"AVX SSE, SSE2, SSE3, SSSE3, SSE4.1, SSE4.2\" } environment { key: \"eigen\" value: \"3.4.99\" } l1_cache_size: 32768 l2_cache_size: 262144 l3_cache_size: 57671680 memory_size: 268435456 } outputs { dtype: DT_FLOAT shape { dim { size: -36 } dim { size: 14 } dim { size: 14 } dim { size: 256 } } }\n",
            "2023-07-07 22:51:19.982433: W tensorflow/core/grappler/costs/op_level_cost_estimator.cc:690] Error in PredictCost() for the op: op: \"CropAndResize\" attr { key: \"T\" value { type: DT_FLOAT } } attr { key: \"extrapolation_value\" value { f: 0 } } attr { key: \"method\" value { s: \"bilinear\" } } inputs { dtype: DT_FLOAT shape { dim { size: -48 } dim { size: -170 } dim { size: -171 } dim { size: 256 } } } inputs { dtype: DT_FLOAT shape { dim { size: -38 } dim { size: 4 } } } inputs { dtype: DT_INT32 shape { dim { size: -38 } } } inputs { dtype: DT_INT32 shape { dim { size: 2 } } value { dtype: DT_INT32 tensor_shape { dim { size: 2 } } tensor_content: \"\\016\\000\\000\\000\\016\\000\\000\\000\" } } device { type: \"CPU\" vendor: \"GenuineIntel\" model: \"111\" frequency: 2200 num_cores: 2 environment { key: \"cpu_instruction_set\" value: \"AVX SSE, SSE2, SSE3, SSSE3, SSE4.1, SSE4.2\" } environment { key: \"eigen\" value: \"3.4.99\" } l1_cache_size: 32768 l2_cache_size: 262144 l3_cache_size: 57671680 memory_size: 268435456 } outputs { dtype: DT_FLOAT shape { dim { size: -38 } dim { size: 14 } dim { size: 14 } dim { size: 256 } } }\n",
            "/tmp/ipykernel_15369/3071512892.py:44: VisibleDeprecationWarning: Creating an ndarray from ragged nested sequences (which is a list-or-tuple of lists-or-tuples-or ndarrays with different lengths or shapes) is deprecated. If you meant to do this, you must specify 'dtype=object' when creating the ndarray\n",
            "  c1 = np.array(c)\n",
            "/tmp/ipykernel_15369/3071512892.py:76: VisibleDeprecationWarning: Creating an ndarray from ragged nested sequences (which is a list-or-tuple of lists-or-tuples-or ndarrays with different lengths or shapes) is deprecated. If you meant to do this, you must specify 'dtype=object' when creating the ndarray\n",
            "  img5 = cv2.fillPoly(mask5, np.array(i), color=(0, 0, 0))\n",
            "/tmp/ipykernel_15369/3071512892.py:81: VisibleDeprecationWarning: Creating an ndarray from ragged nested sequences (which is a list-or-tuple of lists-or-tuples-or ndarrays with different lengths or shapes) is deprecated. If you meant to do this, you must specify 'dtype=object' when creating the ndarray\n",
            "  img6 = cv2.fillPoly(mask6, np.array(i), color=(255, 255, 255))\n"
          ]
        }
      ]
    },
    {
      "cell_type": "code",
      "source": [],
      "metadata": {
        "id": "-qKWc6PSjB3y"
      },
      "execution_count": null,
      "outputs": []
    }
  ]
}